{
 "cells": [
  {
   "cell_type": "code",
   "execution_count": 1,
   "id": "61504176",
   "metadata": {},
   "outputs": [],
   "source": [
    "import pandas as pd\n",
    "import numpy as np\n",
    "import matplotlib.pyplot as plt\n",
    "import pickle"
   ]
  },
  {
   "cell_type": "code",
   "execution_count": 2,
   "id": "31de1a16",
   "metadata": {},
   "outputs": [],
   "source": [
    "#models\n",
    "\n",
    "import xgboost as xgb\n",
    "from sklearn.linear_model import LinearRegression\n",
    "from sklearn.linear_model import ElasticNet\n",
    "from sklearn import linear_model\n",
    "import statsmodels.formula.api as smf \n",
    "from sklearn.linear_model import (TheilSenRegressor, RANSACRegressor, HuberRegressor)"
   ]
  },
  {
   "cell_type": "code",
   "execution_count": 3,
   "id": "5d8798e6",
   "metadata": {},
   "outputs": [],
   "source": [
    "from sklearn.model_selection import train_test_split\n",
    "\n",
    "from sklearn.metrics import mean_absolute_error,r2_score\n",
    "from sklearn.preprocessing import StandardScaler, MinMaxScaler\n",
    "\n",
    "from sklearn.feature_selection import SelectKBest\n",
    "from sklearn.feature_selection import chi2\n",
    "\n",
    "from sklearn.model_selection import cross_val_score\n",
    "from sklearn.model_selection import RepeatedKFold\n",
    "from sklearn.model_selection import GridSearchCV"
   ]
  },
  {
   "cell_type": "code",
   "execution_count": 4,
   "id": "679a3110",
   "metadata": {},
   "outputs": [],
   "source": [
    "train = pd.read_pickle('C:/Users/Pranay/Desktop/Regression with a Crab Age Dataset/mk/train_dataset_001.pkl')"
   ]
  },
  {
   "cell_type": "code",
   "execution_count": 5,
   "id": "c8bd05e0",
   "metadata": {},
   "outputs": [],
   "source": [
    "# Rename column with space\n",
    "train = train.rename(columns={'Shucked Weight': 'Shucked_Weight','Viscera Weight' : 'Viscera_Weight','Shell Weight':'Shell_Weight'})"
   ]
  },
  {
   "cell_type": "code",
   "execution_count": 6,
   "id": "be0662e8",
   "metadata": {},
   "outputs": [
    {
     "data": {
      "text/html": [
       "<div>\n",
       "<style scoped>\n",
       "    .dataframe tbody tr th:only-of-type {\n",
       "        vertical-align: middle;\n",
       "    }\n",
       "\n",
       "    .dataframe tbody tr th {\n",
       "        vertical-align: top;\n",
       "    }\n",
       "\n",
       "    .dataframe thead th {\n",
       "        text-align: right;\n",
       "    }\n",
       "</style>\n",
       "<table border=\"1\" class=\"dataframe\">\n",
       "  <thead>\n",
       "    <tr style=\"text-align: right;\">\n",
       "      <th></th>\n",
       "      <th>Length</th>\n",
       "      <th>Diameter</th>\n",
       "      <th>Height</th>\n",
       "      <th>Weight</th>\n",
       "      <th>Shucked_Weight</th>\n",
       "      <th>Viscera_Weight</th>\n",
       "      <th>Shell_Weight</th>\n",
       "      <th>Age</th>\n",
       "      <th>Length_transform</th>\n",
       "      <th>Diameter_transform</th>\n",
       "      <th>...</th>\n",
       "      <th>BMI</th>\n",
       "      <th>Shucked_by_wt</th>\n",
       "      <th>Viscera_by_wt</th>\n",
       "      <th>Shell_by_wt</th>\n",
       "      <th>Length_into_Height</th>\n",
       "      <th>Length_into_Diameter</th>\n",
       "      <th>Length_into_Weight</th>\n",
       "      <th>L2_weights</th>\n",
       "      <th>Sex_I</th>\n",
       "      <th>Sex_M</th>\n",
       "    </tr>\n",
       "    <tr>\n",
       "      <th>id</th>\n",
       "      <th></th>\n",
       "      <th></th>\n",
       "      <th></th>\n",
       "      <th></th>\n",
       "      <th></th>\n",
       "      <th></th>\n",
       "      <th></th>\n",
       "      <th></th>\n",
       "      <th></th>\n",
       "      <th></th>\n",
       "      <th></th>\n",
       "      <th></th>\n",
       "      <th></th>\n",
       "      <th></th>\n",
       "      <th></th>\n",
       "      <th></th>\n",
       "      <th></th>\n",
       "      <th></th>\n",
       "      <th></th>\n",
       "      <th></th>\n",
       "      <th></th>\n",
       "    </tr>\n",
       "  </thead>\n",
       "  <tbody>\n",
       "    <tr>\n",
       "      <th>0</th>\n",
       "      <td>1.5250</td>\n",
       "      <td>1.1750</td>\n",
       "      <td>0.3750</td>\n",
       "      <td>28.973189</td>\n",
       "      <td>12.728926</td>\n",
       "      <td>6.647958</td>\n",
       "      <td>8.348928</td>\n",
       "      <td>9</td>\n",
       "      <td>0.711204</td>\n",
       "      <td>0.193047</td>\n",
       "      <td>...</td>\n",
       "      <td>39.548201</td>\n",
       "      <td>0.482264</td>\n",
       "      <td>0.277485</td>\n",
       "      <td>0.355655</td>\n",
       "      <td>-0.421611</td>\n",
       "      <td>0.137296</td>\n",
       "      <td>9.884530</td>\n",
       "      <td>9.177791</td>\n",
       "      <td>1</td>\n",
       "      <td>0</td>\n",
       "    </tr>\n",
       "    <tr>\n",
       "      <th>1</th>\n",
       "      <td>1.1000</td>\n",
       "      <td>0.8250</td>\n",
       "      <td>0.2750</td>\n",
       "      <td>10.418441</td>\n",
       "      <td>4.521745</td>\n",
       "      <td>2.324659</td>\n",
       "      <td>3.401940</td>\n",
       "      <td>8</td>\n",
       "      <td>0.106515</td>\n",
       "      <td>-0.157303</td>\n",
       "      <td>...</td>\n",
       "      <td>13.028561</td>\n",
       "      <td>0.433794</td>\n",
       "      <td>0.189464</td>\n",
       "      <td>0.324520</td>\n",
       "      <td>-0.072342</td>\n",
       "      <td>-0.016755</td>\n",
       "      <td>0.640133</td>\n",
       "      <td>3.449159</td>\n",
       "      <td>1</td>\n",
       "      <td>0</td>\n",
       "    </tr>\n",
       "    <tr>\n",
       "      <th>2</th>\n",
       "      <td>1.3875</td>\n",
       "      <td>1.1125</td>\n",
       "      <td>0.3750</td>\n",
       "      <td>24.777463</td>\n",
       "      <td>11.339800</td>\n",
       "      <td>5.556502</td>\n",
       "      <td>6.662133</td>\n",
       "      <td>9</td>\n",
       "      <td>0.487820</td>\n",
       "      <td>0.119934</td>\n",
       "      <td>...</td>\n",
       "      <td>34.980831</td>\n",
       "      <td>0.495623</td>\n",
       "      <td>0.264021</td>\n",
       "      <td>0.325632</td>\n",
       "      <td>-0.289186</td>\n",
       "      <td>0.058506</td>\n",
       "      <td>5.996874</td>\n",
       "      <td>7.980038</td>\n",
       "      <td>0</td>\n",
       "      <td>1</td>\n",
       "    </tr>\n",
       "    <tr>\n",
       "      <th>3</th>\n",
       "      <td>1.7000</td>\n",
       "      <td>1.4125</td>\n",
       "      <td>0.5000</td>\n",
       "      <td>50.660556</td>\n",
       "      <td>20.354941</td>\n",
       "      <td>10.991839</td>\n",
       "      <td>14.996885</td>\n",
       "      <td>11</td>\n",
       "      <td>1.035498</td>\n",
       "      <td>0.513952</td>\n",
       "      <td>...</td>\n",
       "      <td>92.337964</td>\n",
       "      <td>0.456085</td>\n",
       "      <td>0.282490</td>\n",
       "      <td>0.385221</td>\n",
       "      <td>-0.497658</td>\n",
       "      <td>0.532197</td>\n",
       "      <td>22.084783</td>\n",
       "      <td>14.086120</td>\n",
       "      <td>0</td>\n",
       "      <td>0</td>\n",
       "    </tr>\n",
       "    <tr>\n",
       "      <th>4</th>\n",
       "      <td>1.2500</td>\n",
       "      <td>1.0125</td>\n",
       "      <td>0.3375</td>\n",
       "      <td>23.289114</td>\n",
       "      <td>11.977664</td>\n",
       "      <td>4.507570</td>\n",
       "      <td>5.953395</td>\n",
       "      <td>8</td>\n",
       "      <td>0.291272</td>\n",
       "      <td>0.012591</td>\n",
       "      <td>...</td>\n",
       "      <td>29.907619</td>\n",
       "      <td>0.544696</td>\n",
       "      <td>0.223913</td>\n",
       "      <td>0.306525</td>\n",
       "      <td>-0.182220</td>\n",
       "      <td>0.003667</td>\n",
       "      <td>3.409369</td>\n",
       "      <td>7.771252</td>\n",
       "      <td>1</td>\n",
       "      <td>0</td>\n",
       "    </tr>\n",
       "  </tbody>\n",
       "</table>\n",
       "<p>5 rows × 28 columns</p>\n",
       "</div>"
      ],
      "text/plain": [
       "    Length  Diameter  Height     Weight  Shucked_Weight  Viscera_Weight  \\\n",
       "id                                                                        \n",
       "0   1.5250    1.1750  0.3750  28.973189       12.728926        6.647958   \n",
       "1   1.1000    0.8250  0.2750  10.418441        4.521745        2.324659   \n",
       "2   1.3875    1.1125  0.3750  24.777463       11.339800        5.556502   \n",
       "3   1.7000    1.4125  0.5000  50.660556       20.354941       10.991839   \n",
       "4   1.2500    1.0125  0.3375  23.289114       11.977664        4.507570   \n",
       "\n",
       "    Shell_Weight  Age  Length_transform  Diameter_transform  ...        BMI  \\\n",
       "id                                                           ...              \n",
       "0       8.348928    9          0.711204            0.193047  ...  39.548201   \n",
       "1       3.401940    8          0.106515           -0.157303  ...  13.028561   \n",
       "2       6.662133    9          0.487820            0.119934  ...  34.980831   \n",
       "3      14.996885   11          1.035498            0.513952  ...  92.337964   \n",
       "4       5.953395    8          0.291272            0.012591  ...  29.907619   \n",
       "\n",
       "    Shucked_by_wt  Viscera_by_wt  Shell_by_wt  Length_into_Height  \\\n",
       "id                                                                  \n",
       "0        0.482264       0.277485     0.355655           -0.421611   \n",
       "1        0.433794       0.189464     0.324520           -0.072342   \n",
       "2        0.495623       0.264021     0.325632           -0.289186   \n",
       "3        0.456085       0.282490     0.385221           -0.497658   \n",
       "4        0.544696       0.223913     0.306525           -0.182220   \n",
       "\n",
       "    Length_into_Diameter  Length_into_Weight  L2_weights  Sex_I  Sex_M  \n",
       "id                                                                      \n",
       "0               0.137296            9.884530    9.177791      1      0  \n",
       "1              -0.016755            0.640133    3.449159      1      0  \n",
       "2               0.058506            5.996874    7.980038      0      1  \n",
       "3               0.532197           22.084783   14.086120      0      0  \n",
       "4               0.003667            3.409369    7.771252      1      0  \n",
       "\n",
       "[5 rows x 28 columns]"
      ]
     },
     "execution_count": 6,
     "metadata": {},
     "output_type": "execute_result"
    }
   ],
   "source": [
    "train.head()"
   ]
  },
  {
   "cell_type": "code",
   "execution_count": 7,
   "id": "2598dc3d",
   "metadata": {},
   "outputs": [
    {
     "data": {
      "text/plain": [
       "(74051, 28)"
      ]
     },
     "execution_count": 7,
     "metadata": {},
     "output_type": "execute_result"
    }
   ],
   "source": [
    "train.shape"
   ]
  },
  {
   "cell_type": "code",
   "execution_count": 8,
   "id": "c895a2d3",
   "metadata": {},
   "outputs": [],
   "source": [
    "X = train.drop(columns=['Age','Length','Diameter','Height','Weight','Shucked_Weight','Viscera_Weight','Shell_Weight','Density','Aspect_ratio'])\n",
    "y = train[['Age']].copy()"
   ]
  },
  {
   "cell_type": "code",
   "execution_count": 9,
   "id": "1845e71a",
   "metadata": {},
   "outputs": [],
   "source": [
    "# Create an instance of the StandardScaler\n",
    "scaler = MinMaxScaler()\n",
    "\n",
    "# Fit and transform the data\n",
    "X_transformed = scaler.fit_transform(X)\n",
    "# Convert the transformed array back to a DataFrame\n",
    "X_transformed_df = pd.DataFrame(X_transformed, columns=X.columns)"
   ]
  },
  {
   "cell_type": "code",
   "execution_count": 10,
   "id": "d2c3fb47",
   "metadata": {},
   "outputs": [],
   "source": [
    "#apply SelectKBest class to extract top 10 best features\n",
    "bestfeatures = SelectKBest( score_func=chi2, k=10 )\n",
    "fit = bestfeatures.fit(X_transformed_df,y)"
   ]
  },
  {
   "cell_type": "code",
   "execution_count": 11,
   "id": "9f706f80",
   "metadata": {},
   "outputs": [],
   "source": [
    "dfscores = pd.DataFrame(fit.scores_)\n",
    "dfcolumns = pd.DataFrame(X_transformed_df.columns)"
   ]
  },
  {
   "cell_type": "code",
   "execution_count": 12,
   "id": "32682f13",
   "metadata": {},
   "outputs": [],
   "source": [
    "#concat two dataframes for better visualization \n",
    "featureScores = pd.concat([dfcolumns,dfscores],axis=1)\n",
    "featureScores.columns = ['Specs','Score']  #naming the dataframe columns"
   ]
  },
  {
   "cell_type": "code",
   "execution_count": 13,
   "id": "473be1cc",
   "metadata": {},
   "outputs": [],
   "source": [
    "X = X_transformed_df[featureScores.nlargest(10,'Score')['Specs'].values]"
   ]
  },
  {
   "cell_type": "code",
   "execution_count": 14,
   "id": "6646f713",
   "metadata": {},
   "outputs": [
    {
     "data": {
      "text/html": [
       "<div>\n",
       "<style scoped>\n",
       "    .dataframe tbody tr th:only-of-type {\n",
       "        vertical-align: middle;\n",
       "    }\n",
       "\n",
       "    .dataframe tbody tr th {\n",
       "        vertical-align: top;\n",
       "    }\n",
       "\n",
       "    .dataframe thead th {\n",
       "        text-align: right;\n",
       "    }\n",
       "</style>\n",
       "<table border=\"1\" class=\"dataframe\">\n",
       "  <thead>\n",
       "    <tr style=\"text-align: right;\">\n",
       "      <th></th>\n",
       "      <th>Sex_I</th>\n",
       "      <th>L2_weights</th>\n",
       "      <th>Sex_M</th>\n",
       "      <th>Diameter_transform</th>\n",
       "      <th>Shell_Weight_transform</th>\n",
       "      <th>Weight_transform</th>\n",
       "      <th>Length_transform</th>\n",
       "      <th>Viscera_Weight_transform</th>\n",
       "      <th>BMI</th>\n",
       "      <th>Shucked_Weight_transform</th>\n",
       "    </tr>\n",
       "  </thead>\n",
       "  <tbody>\n",
       "    <tr>\n",
       "      <th>0</th>\n",
       "      <td>1.0</td>\n",
       "      <td>0.578545</td>\n",
       "      <td>0.0</td>\n",
       "      <td>0.642522</td>\n",
       "      <td>0.599067</td>\n",
       "      <td>0.615812</td>\n",
       "      <td>0.668331</td>\n",
       "      <td>0.649977</td>\n",
       "      <td>0.348987</td>\n",
       "      <td>0.613935</td>\n",
       "    </tr>\n",
       "    <tr>\n",
       "      <th>1</th>\n",
       "      <td>1.0</td>\n",
       "      <td>0.213201</td>\n",
       "      <td>0.0</td>\n",
       "      <td>0.273848</td>\n",
       "      <td>0.288684</td>\n",
       "      <td>0.268636</td>\n",
       "      <td>0.290079</td>\n",
       "      <td>0.286660</td>\n",
       "      <td>0.116067</td>\n",
       "      <td>0.276456</td>\n",
       "    </tr>\n",
       "    <tr>\n",
       "      <th>2</th>\n",
       "      <td>0.0</td>\n",
       "      <td>0.502159</td>\n",
       "      <td>1.0</td>\n",
       "      <td>0.565585</td>\n",
       "      <td>0.501583</td>\n",
       "      <td>0.545171</td>\n",
       "      <td>0.528598</td>\n",
       "      <td>0.568315</td>\n",
       "      <td>0.308872</td>\n",
       "      <td>0.563684</td>\n",
       "    </tr>\n",
       "    <tr>\n",
       "      <th>3</th>\n",
       "      <td>0.0</td>\n",
       "      <td>0.891575</td>\n",
       "      <td>0.0</td>\n",
       "      <td>0.980212</td>\n",
       "      <td>0.938508</td>\n",
       "      <td>0.942782</td>\n",
       "      <td>0.871187</td>\n",
       "      <td>0.939825</td>\n",
       "      <td>0.812637</td>\n",
       "      <td>0.863161</td>\n",
       "    </tr>\n",
       "    <tr>\n",
       "      <th>4</th>\n",
       "      <td>1.0</td>\n",
       "      <td>0.488843</td>\n",
       "      <td>0.0</td>\n",
       "      <td>0.452628</td>\n",
       "      <td>0.458527</td>\n",
       "      <td>0.519289</td>\n",
       "      <td>0.405650</td>\n",
       "      <td>0.484804</td>\n",
       "      <td>0.264315</td>\n",
       "      <td>0.586998</td>\n",
       "    </tr>\n",
       "  </tbody>\n",
       "</table>\n",
       "</div>"
      ],
      "text/plain": [
       "   Sex_I  L2_weights  Sex_M  Diameter_transform  Shell_Weight_transform  \\\n",
       "0    1.0    0.578545    0.0            0.642522                0.599067   \n",
       "1    1.0    0.213201    0.0            0.273848                0.288684   \n",
       "2    0.0    0.502159    1.0            0.565585                0.501583   \n",
       "3    0.0    0.891575    0.0            0.980212                0.938508   \n",
       "4    1.0    0.488843    0.0            0.452628                0.458527   \n",
       "\n",
       "   Weight_transform  Length_transform  Viscera_Weight_transform       BMI  \\\n",
       "0          0.615812          0.668331                  0.649977  0.348987   \n",
       "1          0.268636          0.290079                  0.286660  0.116067   \n",
       "2          0.545171          0.528598                  0.568315  0.308872   \n",
       "3          0.942782          0.871187                  0.939825  0.812637   \n",
       "4          0.519289          0.405650                  0.484804  0.264315   \n",
       "\n",
       "   Shucked_Weight_transform  \n",
       "0                  0.613935  \n",
       "1                  0.276456  \n",
       "2                  0.563684  \n",
       "3                  0.863161  \n",
       "4                  0.586998  "
      ]
     },
     "execution_count": 14,
     "metadata": {},
     "output_type": "execute_result"
    }
   ],
   "source": [
    "X.head()"
   ]
  },
  {
   "cell_type": "code",
   "execution_count": 15,
   "id": "92ec9dc7",
   "metadata": {},
   "outputs": [
    {
     "data": {
      "text/plain": [
       "(74051, 10)"
      ]
     },
     "execution_count": 15,
     "metadata": {},
     "output_type": "execute_result"
    }
   ],
   "source": [
    "X.shape"
   ]
  },
  {
   "cell_type": "code",
   "execution_count": 16,
   "id": "fd8c1cf8",
   "metadata": {},
   "outputs": [],
   "source": [
    "X_train,X_test, y_train, y_test = train_test_split(X,y, test_size = 0.2, random_state = 42)"
   ]
  },
  {
   "cell_type": "markdown",
   "id": "c4d1dfb5",
   "metadata": {},
   "source": [
    "### Model1"
   ]
  },
  {
   "cell_type": "code",
   "execution_count": null,
   "id": "bb3baabb",
   "metadata": {},
   "outputs": [],
   "source": [
    "# Create a logistic regression model\n",
    "model_LinearRegression = LinearRegression()"
   ]
  },
  {
   "cell_type": "code",
   "execution_count": null,
   "id": "5bafabab",
   "metadata": {},
   "outputs": [],
   "source": [
    "# Train the model on the training data\n",
    "model_LinearRegression.fit(X_train, y_train)"
   ]
  },
  {
   "cell_type": "code",
   "execution_count": null,
   "id": "92b69d2c",
   "metadata": {},
   "outputs": [],
   "source": [
    "# Make predictions on the testing data\n",
    "y_pred = model_LinearRegression.predict(X_test)\n",
    "y_pred_1 = y_pred.copy()"
   ]
  },
  {
   "cell_type": "code",
   "execution_count": null,
   "id": "c554d0a1",
   "metadata": {},
   "outputs": [],
   "source": [
    "mean_absolute_error(y_test, y_pred)"
   ]
  },
  {
   "cell_type": "code",
   "execution_count": null,
   "id": "9669e2e7",
   "metadata": {},
   "outputs": [],
   "source": [
    "r2_score(y_test, y_pred)"
   ]
  },
  {
   "cell_type": "code",
   "execution_count": null,
   "id": "f782a771",
   "metadata": {},
   "outputs": [],
   "source": [
    "with open('C:/Users/Pranay/Desktop/Regression with a Crab Age Dataset/models/model_LinearRegression.pkl', 'wb') as file:\n",
    "    pickle.dump(model_LinearRegression, file)"
   ]
  },
  {
   "cell_type": "markdown",
   "id": "ba52eab8",
   "metadata": {},
   "source": [
    "### Model 2"
   ]
  },
  {
   "cell_type": "code",
   "execution_count": null,
   "id": "44d90378",
   "metadata": {},
   "outputs": [],
   "source": [
    "model_ElasticNet = ElasticNet()"
   ]
  },
  {
   "cell_type": "code",
   "execution_count": null,
   "id": "810ce78c",
   "metadata": {},
   "outputs": [],
   "source": [
    "# Train the model on the training data\n",
    "model_ElasticNet.fit(X_train, y_train)"
   ]
  },
  {
   "cell_type": "code",
   "execution_count": null,
   "id": "ae814cf9",
   "metadata": {},
   "outputs": [],
   "source": [
    "# Make predictions on the testing data\n",
    "y_pred = model_ElasticNet.predict(X_test)\n",
    "y_pred_2 = y_pred.copy()"
   ]
  },
  {
   "cell_type": "code",
   "execution_count": null,
   "id": "2d7c0cbf",
   "metadata": {},
   "outputs": [],
   "source": [
    "mean_absolute_error(y_test, y_pred)"
   ]
  },
  {
   "cell_type": "code",
   "execution_count": null,
   "id": "77e45a58",
   "metadata": {},
   "outputs": [],
   "source": [
    "r2_score(y_test, y_pred)"
   ]
  },
  {
   "cell_type": "code",
   "execution_count": null,
   "id": "3c85b32a",
   "metadata": {},
   "outputs": [],
   "source": [
    "with open('C:/Users/Pranay/Desktop/Regression with a Crab Age Dataset/models/model_ElasticNet.pkl', 'wb') as file:\n",
    "    pickle.dump(model_ElasticNet, file)"
   ]
  },
  {
   "cell_type": "markdown",
   "id": "4d105d5c",
   "metadata": {},
   "source": [
    "### Lasso & Ridge"
   ]
  },
  {
   "cell_type": "code",
   "execution_count": null,
   "id": "25dd9a20",
   "metadata": {},
   "outputs": [],
   "source": [
    "lasso_model = linear_model.Lasso(alpha=0.1)\n",
    "ridge_model = linear_model.Ridge(alpha=0.5)"
   ]
  },
  {
   "cell_type": "code",
   "execution_count": null,
   "id": "1b5b55f5",
   "metadata": {},
   "outputs": [],
   "source": [
    "lasso_model.fit(X_train, y_train)\n",
    "ridge_model.fit(X_train, y_train)"
   ]
  },
  {
   "cell_type": "code",
   "execution_count": null,
   "id": "e93205e0",
   "metadata": {},
   "outputs": [],
   "source": [
    "# Make predictions on the testing data\n",
    "y_pred = lasso_model.predict(X_test)\n",
    "y_pred_3 = y_pred.copy()\n",
    "mean_absolute_error(y_test, y_pred)"
   ]
  },
  {
   "cell_type": "code",
   "execution_count": null,
   "id": "f712e0d4",
   "metadata": {},
   "outputs": [],
   "source": [
    "# Make predictions on the testing data\n",
    "y_pred = ridge_model.predict(X_test)\n",
    "y_pred_4 = y_pred.copy()\n",
    "mean_absolute_error(y_test, y_pred)"
   ]
  },
  {
   "cell_type": "code",
   "execution_count": null,
   "id": "3c6b9a6d",
   "metadata": {},
   "outputs": [],
   "source": [
    "r2_score(y_test, y_pred)"
   ]
  },
  {
   "cell_type": "markdown",
   "id": "739e945b",
   "metadata": {},
   "source": [
    "### Model 3"
   ]
  },
  {
   "cell_type": "code",
   "execution_count": null,
   "id": "4b6541f7",
   "metadata": {},
   "outputs": [],
   "source": [
    "#Build model\n",
    "model_smf = smf.ols('Age~Length_transform+Diameter_transform+Height_transform+Weight_transform+Shucked_Weight_transform+Viscera_Weight_transform+Shell_Weight_transform+Sex_I+Sex_M',data=train).fit()"
   ]
  },
  {
   "cell_type": "code",
   "execution_count": null,
   "id": "499a957f",
   "metadata": {},
   "outputs": [],
   "source": [
    "#Coefficients\n",
    "model_smf.params"
   ]
  },
  {
   "cell_type": "code",
   "execution_count": null,
   "id": "971e3922",
   "metadata": {},
   "outputs": [],
   "source": [
    "#t and p-Values\n",
    "print(model_smf.tvalues, '\\n', model_smf.pvalues)"
   ]
  },
  {
   "cell_type": "code",
   "execution_count": null,
   "id": "4d1f6dbf",
   "metadata": {},
   "outputs": [],
   "source": [
    "#R squared values\n",
    "(model_smf.rsquared,model_smf.rsquared_adj)"
   ]
  },
  {
   "cell_type": "code",
   "execution_count": null,
   "id": "cba7ad38",
   "metadata": {},
   "outputs": [],
   "source": [
    "y_pred = model_smf.predict(X_test)\n",
    "y_pred_5 = y_pred.copy()\n",
    "mean_absolute_error(y_test, y_pred)"
   ]
  },
  {
   "cell_type": "code",
   "execution_count": null,
   "id": "36743faf",
   "metadata": {},
   "outputs": [],
   "source": [
    "r2_score(y_test, y_pred)"
   ]
  },
  {
   "cell_type": "code",
   "execution_count": null,
   "id": "ca5d882e",
   "metadata": {},
   "outputs": [],
   "source": [
    "with open('C:/Users/Pranay/Desktop/Regression with a Crab Age Dataset/models/model_smf.pkl', 'wb') as file:\n",
    "    pickle.dump(model_smf, file)"
   ]
  },
  {
   "cell_type": "code",
   "execution_count": null,
   "id": "a4fdb340",
   "metadata": {},
   "outputs": [],
   "source": [
    "model_influence = model_smf.get_influence()\n",
    "(c, _) = model_influence.cooks_distance"
   ]
  },
  {
   "cell_type": "code",
   "execution_count": null,
   "id": "d7111a10",
   "metadata": {},
   "outputs": [],
   "source": [
    "#Plot the influencers values using stem plot\n",
    "fig = plt.subplots(figsize=(20, 7))\n",
    "plt.stem(np.arange(len(train)), np.round(c, 3))\n",
    "plt.xlabel('Row index')\n",
    "plt.ylabel('Cooks Distance')\n",
    "plt.show()"
   ]
  },
  {
   "cell_type": "code",
   "execution_count": null,
   "id": "933a8c1a",
   "metadata": {},
   "outputs": [],
   "source": [
    "import statsmodels.api as sm\n",
    "qqplot=sm.qqplot(model_smf.resid,line='q') # line = 45 to draw the diagnoal line\n",
    "plt.title(\"Normal Q-Q plot of residuals\")\n",
    "plt.show()"
   ]
  },
  {
   "cell_type": "code",
   "execution_count": null,
   "id": "c73b2791",
   "metadata": {},
   "outputs": [],
   "source": [
    "plt.hist(model_smf.resid)\n",
    "plt.show()"
   ]
  },
  {
   "cell_type": "code",
   "execution_count": null,
   "id": "a4cc4efc",
   "metadata": {},
   "outputs": [],
   "source": [
    "resid_all = list(np.where((model_smf.resid>5) | (model_smf.resid<-5)))[0]\n",
    "#train=train.drop(train.index[list(resid_all)],axis=0).reset_index(drop = True)"
   ]
  },
  {
   "cell_type": "code",
   "execution_count": null,
   "id": "429a79d3",
   "metadata": {},
   "outputs": [],
   "source": [
    "resid_all = list(np.where(model_smf.resid<-10))[0]\n",
    "train.loc[list(resid_all)]"
   ]
  },
  {
   "cell_type": "markdown",
   "id": "30f86fd2",
   "metadata": {},
   "source": [
    "### Model 5 "
   ]
  },
  {
   "cell_type": "code",
   "execution_count": null,
   "id": "565ecb16",
   "metadata": {},
   "outputs": [],
   "source": [
    "model_ransac = RANSACRegressor()\n",
    "model_ransac.fit(X_train, y_train)"
   ]
  },
  {
   "cell_type": "code",
   "execution_count": null,
   "id": "b9eae55a",
   "metadata": {},
   "outputs": [],
   "source": [
    "# Make predictions on the testing data\n",
    "y_pred = model_ransac.predict(X_test)\n",
    "y_pred_6 = y_pred.copy()\n",
    "mean_absolute_error(y_test, y_pred)"
   ]
  },
  {
   "cell_type": "code",
   "execution_count": null,
   "id": "504728f3",
   "metadata": {},
   "outputs": [],
   "source": [
    "r2_score(y_test, y_pred)"
   ]
  },
  {
   "cell_type": "code",
   "execution_count": null,
   "id": "6a8218e2",
   "metadata": {},
   "outputs": [],
   "source": [
    "sum_list = []\n",
    "count = 0\n",
    "for pred in [y_pred_1,y_pred_2,y_pred_3,y_pred_4,y_pred_6] :\n",
    "    try :\n",
    "        prediction = [i[0] for i in pred]\n",
    "    except IndexError :\n",
    "        prediction = list(pred)\n",
    "    count += 1\n",
    "    if count == 1 :\n",
    "        sum_list = prediction\n",
    "    else :\n",
    "        sum_list = [x + y for x, y in zip(sum_list, prediction)]\n",
    "y_pred_final = [ i/count for i in sum_list]"
   ]
  },
  {
   "cell_type": "code",
   "execution_count": null,
   "id": "76ce25ba",
   "metadata": {},
   "outputs": [],
   "source": [
    "mean_absolute_error(y_test, y_pred_final)"
   ]
  },
  {
   "cell_type": "markdown",
   "id": "779e4986",
   "metadata": {},
   "source": [
    "### Xgboost"
   ]
  },
  {
   "cell_type": "markdown",
   "id": "a9302b72",
   "metadata": {},
   "source": [
    "#### Hyperparameter tuning"
   ]
  },
  {
   "cell_type": "code",
   "execution_count": 17,
   "id": "9eeba376",
   "metadata": {},
   "outputs": [
    {
     "ename": "KeyboardInterrupt",
     "evalue": "",
     "output_type": "error",
     "traceback": [
      "\u001b[1;31m---------------------------------------------------------------------------\u001b[0m",
      "\u001b[1;31mKeyboardInterrupt\u001b[0m                         Traceback (most recent call last)",
      "Cell \u001b[1;32mIn[17], line 11\u001b[0m\n\u001b[0;32m      9\u001b[0m search \u001b[38;5;241m=\u001b[39m GridSearchCV(model, grid, scoring\u001b[38;5;241m=\u001b[39m\u001b[38;5;124m'\u001b[39m\u001b[38;5;124mneg_mean_absolute_error\u001b[39m\u001b[38;5;124m'\u001b[39m, cv\u001b[38;5;241m=\u001b[39mcv, n_jobs\u001b[38;5;241m=\u001b[39m\u001b[38;5;241m-\u001b[39m\u001b[38;5;241m1\u001b[39m)\n\u001b[0;32m     10\u001b[0m \u001b[38;5;66;03m# perform the search\u001b[39;00m\n\u001b[1;32m---> 11\u001b[0m results \u001b[38;5;241m=\u001b[39m \u001b[43msearch\u001b[49m\u001b[38;5;241;43m.\u001b[39;49m\u001b[43mfit\u001b[49m\u001b[43m(\u001b[49m\u001b[43mX_train\u001b[49m\u001b[43m,\u001b[49m\u001b[43m \u001b[49m\u001b[43my_train\u001b[49m\u001b[43m)\u001b[49m\n\u001b[0;32m     12\u001b[0m \u001b[38;5;66;03m# summarize\u001b[39;00m\n\u001b[0;32m     13\u001b[0m \u001b[38;5;28mprint\u001b[39m(\u001b[38;5;124m'\u001b[39m\u001b[38;5;124mMAE: \u001b[39m\u001b[38;5;132;01m%.3f\u001b[39;00m\u001b[38;5;124m'\u001b[39m \u001b[38;5;241m%\u001b[39m results\u001b[38;5;241m.\u001b[39mbest_score_)\n",
      "File \u001b[1;32m~\\anaconda3\\envs\\checkenv\\lib\\site-packages\\sklearn\\model_selection\\_search.py:875\u001b[0m, in \u001b[0;36mBaseSearchCV.fit\u001b[1;34m(self, X, y, groups, **fit_params)\u001b[0m\n\u001b[0;32m    869\u001b[0m     results \u001b[38;5;241m=\u001b[39m \u001b[38;5;28mself\u001b[39m\u001b[38;5;241m.\u001b[39m_format_results(\n\u001b[0;32m    870\u001b[0m         all_candidate_params, n_splits, all_out, all_more_results\n\u001b[0;32m    871\u001b[0m     )\n\u001b[0;32m    873\u001b[0m     \u001b[38;5;28;01mreturn\u001b[39;00m results\n\u001b[1;32m--> 875\u001b[0m \u001b[38;5;28;43mself\u001b[39;49m\u001b[38;5;241;43m.\u001b[39;49m\u001b[43m_run_search\u001b[49m\u001b[43m(\u001b[49m\u001b[43mevaluate_candidates\u001b[49m\u001b[43m)\u001b[49m\n\u001b[0;32m    877\u001b[0m \u001b[38;5;66;03m# multimetric is determined here because in the case of a callable\u001b[39;00m\n\u001b[0;32m    878\u001b[0m \u001b[38;5;66;03m# self.scoring the return type is only known after calling\u001b[39;00m\n\u001b[0;32m    879\u001b[0m first_test_score \u001b[38;5;241m=\u001b[39m all_out[\u001b[38;5;241m0\u001b[39m][\u001b[38;5;124m\"\u001b[39m\u001b[38;5;124mtest_scores\u001b[39m\u001b[38;5;124m\"\u001b[39m]\n",
      "File \u001b[1;32m~\\anaconda3\\envs\\checkenv\\lib\\site-packages\\sklearn\\model_selection\\_search.py:1389\u001b[0m, in \u001b[0;36mGridSearchCV._run_search\u001b[1;34m(self, evaluate_candidates)\u001b[0m\n\u001b[0;32m   1387\u001b[0m \u001b[38;5;28;01mdef\u001b[39;00m \u001b[38;5;21m_run_search\u001b[39m(\u001b[38;5;28mself\u001b[39m, evaluate_candidates):\n\u001b[0;32m   1388\u001b[0m     \u001b[38;5;124;03m\"\"\"Search all candidates in param_grid\"\"\"\u001b[39;00m\n\u001b[1;32m-> 1389\u001b[0m     \u001b[43mevaluate_candidates\u001b[49m\u001b[43m(\u001b[49m\u001b[43mParameterGrid\u001b[49m\u001b[43m(\u001b[49m\u001b[38;5;28;43mself\u001b[39;49m\u001b[38;5;241;43m.\u001b[39;49m\u001b[43mparam_grid\u001b[49m\u001b[43m)\u001b[49m\u001b[43m)\u001b[49m\n",
      "File \u001b[1;32m~\\anaconda3\\envs\\checkenv\\lib\\site-packages\\sklearn\\model_selection\\_search.py:822\u001b[0m, in \u001b[0;36mBaseSearchCV.fit.<locals>.evaluate_candidates\u001b[1;34m(candidate_params, cv, more_results)\u001b[0m\n\u001b[0;32m    814\u001b[0m \u001b[38;5;28;01mif\u001b[39;00m \u001b[38;5;28mself\u001b[39m\u001b[38;5;241m.\u001b[39mverbose \u001b[38;5;241m>\u001b[39m \u001b[38;5;241m0\u001b[39m:\n\u001b[0;32m    815\u001b[0m     \u001b[38;5;28mprint\u001b[39m(\n\u001b[0;32m    816\u001b[0m         \u001b[38;5;124m\"\u001b[39m\u001b[38;5;124mFitting \u001b[39m\u001b[38;5;132;01m{0}\u001b[39;00m\u001b[38;5;124m folds for each of \u001b[39m\u001b[38;5;132;01m{1}\u001b[39;00m\u001b[38;5;124m candidates,\u001b[39m\u001b[38;5;124m\"\u001b[39m\n\u001b[0;32m    817\u001b[0m         \u001b[38;5;124m\"\u001b[39m\u001b[38;5;124m totalling \u001b[39m\u001b[38;5;132;01m{2}\u001b[39;00m\u001b[38;5;124m fits\u001b[39m\u001b[38;5;124m\"\u001b[39m\u001b[38;5;241m.\u001b[39mformat(\n\u001b[0;32m    818\u001b[0m             n_splits, n_candidates, n_candidates \u001b[38;5;241m*\u001b[39m n_splits\n\u001b[0;32m    819\u001b[0m         )\n\u001b[0;32m    820\u001b[0m     )\n\u001b[1;32m--> 822\u001b[0m out \u001b[38;5;241m=\u001b[39m \u001b[43mparallel\u001b[49m\u001b[43m(\u001b[49m\n\u001b[0;32m    823\u001b[0m \u001b[43m    \u001b[49m\u001b[43mdelayed\u001b[49m\u001b[43m(\u001b[49m\u001b[43m_fit_and_score\u001b[49m\u001b[43m)\u001b[49m\u001b[43m(\u001b[49m\n\u001b[0;32m    824\u001b[0m \u001b[43m        \u001b[49m\u001b[43mclone\u001b[49m\u001b[43m(\u001b[49m\u001b[43mbase_estimator\u001b[49m\u001b[43m)\u001b[49m\u001b[43m,\u001b[49m\n\u001b[0;32m    825\u001b[0m \u001b[43m        \u001b[49m\u001b[43mX\u001b[49m\u001b[43m,\u001b[49m\n\u001b[0;32m    826\u001b[0m \u001b[43m        \u001b[49m\u001b[43my\u001b[49m\u001b[43m,\u001b[49m\n\u001b[0;32m    827\u001b[0m \u001b[43m        \u001b[49m\u001b[43mtrain\u001b[49m\u001b[38;5;241;43m=\u001b[39;49m\u001b[43mtrain\u001b[49m\u001b[43m,\u001b[49m\n\u001b[0;32m    828\u001b[0m \u001b[43m        \u001b[49m\u001b[43mtest\u001b[49m\u001b[38;5;241;43m=\u001b[39;49m\u001b[43mtest\u001b[49m\u001b[43m,\u001b[49m\n\u001b[0;32m    829\u001b[0m \u001b[43m        \u001b[49m\u001b[43mparameters\u001b[49m\u001b[38;5;241;43m=\u001b[39;49m\u001b[43mparameters\u001b[49m\u001b[43m,\u001b[49m\n\u001b[0;32m    830\u001b[0m \u001b[43m        \u001b[49m\u001b[43msplit_progress\u001b[49m\u001b[38;5;241;43m=\u001b[39;49m\u001b[43m(\u001b[49m\u001b[43msplit_idx\u001b[49m\u001b[43m,\u001b[49m\u001b[43m \u001b[49m\u001b[43mn_splits\u001b[49m\u001b[43m)\u001b[49m\u001b[43m,\u001b[49m\n\u001b[0;32m    831\u001b[0m \u001b[43m        \u001b[49m\u001b[43mcandidate_progress\u001b[49m\u001b[38;5;241;43m=\u001b[39;49m\u001b[43m(\u001b[49m\u001b[43mcand_idx\u001b[49m\u001b[43m,\u001b[49m\u001b[43m \u001b[49m\u001b[43mn_candidates\u001b[49m\u001b[43m)\u001b[49m\u001b[43m,\u001b[49m\n\u001b[0;32m    832\u001b[0m \u001b[43m        \u001b[49m\u001b[38;5;241;43m*\u001b[39;49m\u001b[38;5;241;43m*\u001b[39;49m\u001b[43mfit_and_score_kwargs\u001b[49m\u001b[43m,\u001b[49m\n\u001b[0;32m    833\u001b[0m \u001b[43m    \u001b[49m\u001b[43m)\u001b[49m\n\u001b[0;32m    834\u001b[0m \u001b[43m    \u001b[49m\u001b[38;5;28;43;01mfor\u001b[39;49;00m\u001b[43m \u001b[49m\u001b[43m(\u001b[49m\u001b[43mcand_idx\u001b[49m\u001b[43m,\u001b[49m\u001b[43m \u001b[49m\u001b[43mparameters\u001b[49m\u001b[43m)\u001b[49m\u001b[43m,\u001b[49m\u001b[43m \u001b[49m\u001b[43m(\u001b[49m\u001b[43msplit_idx\u001b[49m\u001b[43m,\u001b[49m\u001b[43m \u001b[49m\u001b[43m(\u001b[49m\u001b[43mtrain\u001b[49m\u001b[43m,\u001b[49m\u001b[43m \u001b[49m\u001b[43mtest\u001b[49m\u001b[43m)\u001b[49m\u001b[43m)\u001b[49m\u001b[43m \u001b[49m\u001b[38;5;129;43;01min\u001b[39;49;00m\u001b[43m \u001b[49m\u001b[43mproduct\u001b[49m\u001b[43m(\u001b[49m\n\u001b[0;32m    835\u001b[0m \u001b[43m        \u001b[49m\u001b[38;5;28;43menumerate\u001b[39;49m\u001b[43m(\u001b[49m\u001b[43mcandidate_params\u001b[49m\u001b[43m)\u001b[49m\u001b[43m,\u001b[49m\u001b[43m \u001b[49m\u001b[38;5;28;43menumerate\u001b[39;49m\u001b[43m(\u001b[49m\u001b[43mcv\u001b[49m\u001b[38;5;241;43m.\u001b[39;49m\u001b[43msplit\u001b[49m\u001b[43m(\u001b[49m\u001b[43mX\u001b[49m\u001b[43m,\u001b[49m\u001b[43m \u001b[49m\u001b[43my\u001b[49m\u001b[43m,\u001b[49m\u001b[43m \u001b[49m\u001b[43mgroups\u001b[49m\u001b[43m)\u001b[49m\u001b[43m)\u001b[49m\n\u001b[0;32m    836\u001b[0m \u001b[43m    \u001b[49m\u001b[43m)\u001b[49m\n\u001b[0;32m    837\u001b[0m \u001b[43m\u001b[49m\u001b[43m)\u001b[49m\n\u001b[0;32m    839\u001b[0m \u001b[38;5;28;01mif\u001b[39;00m \u001b[38;5;28mlen\u001b[39m(out) \u001b[38;5;241m<\u001b[39m \u001b[38;5;241m1\u001b[39m:\n\u001b[0;32m    840\u001b[0m     \u001b[38;5;28;01mraise\u001b[39;00m \u001b[38;5;167;01mValueError\u001b[39;00m(\n\u001b[0;32m    841\u001b[0m         \u001b[38;5;124m\"\u001b[39m\u001b[38;5;124mNo fits were performed. \u001b[39m\u001b[38;5;124m\"\u001b[39m\n\u001b[0;32m    842\u001b[0m         \u001b[38;5;124m\"\u001b[39m\u001b[38;5;124mWas the CV iterator empty? \u001b[39m\u001b[38;5;124m\"\u001b[39m\n\u001b[0;32m    843\u001b[0m         \u001b[38;5;124m\"\u001b[39m\u001b[38;5;124mWere there no candidates?\u001b[39m\u001b[38;5;124m\"\u001b[39m\n\u001b[0;32m    844\u001b[0m     )\n",
      "File \u001b[1;32m~\\anaconda3\\envs\\checkenv\\lib\\site-packages\\joblib\\parallel.py:1098\u001b[0m, in \u001b[0;36mParallel.__call__\u001b[1;34m(self, iterable)\u001b[0m\n\u001b[0;32m   1095\u001b[0m     \u001b[38;5;28mself\u001b[39m\u001b[38;5;241m.\u001b[39m_iterating \u001b[38;5;241m=\u001b[39m \u001b[38;5;28;01mFalse\u001b[39;00m\n\u001b[0;32m   1097\u001b[0m \u001b[38;5;28;01mwith\u001b[39;00m \u001b[38;5;28mself\u001b[39m\u001b[38;5;241m.\u001b[39m_backend\u001b[38;5;241m.\u001b[39mretrieval_context():\n\u001b[1;32m-> 1098\u001b[0m     \u001b[38;5;28;43mself\u001b[39;49m\u001b[38;5;241;43m.\u001b[39;49m\u001b[43mretrieve\u001b[49m\u001b[43m(\u001b[49m\u001b[43m)\u001b[49m\n\u001b[0;32m   1099\u001b[0m \u001b[38;5;66;03m# Make sure that we get a last message telling us we are done\u001b[39;00m\n\u001b[0;32m   1100\u001b[0m elapsed_time \u001b[38;5;241m=\u001b[39m time\u001b[38;5;241m.\u001b[39mtime() \u001b[38;5;241m-\u001b[39m \u001b[38;5;28mself\u001b[39m\u001b[38;5;241m.\u001b[39m_start_time\n",
      "File \u001b[1;32m~\\anaconda3\\envs\\checkenv\\lib\\site-packages\\joblib\\parallel.py:975\u001b[0m, in \u001b[0;36mParallel.retrieve\u001b[1;34m(self)\u001b[0m\n\u001b[0;32m    973\u001b[0m \u001b[38;5;28;01mtry\u001b[39;00m:\n\u001b[0;32m    974\u001b[0m     \u001b[38;5;28;01mif\u001b[39;00m \u001b[38;5;28mgetattr\u001b[39m(\u001b[38;5;28mself\u001b[39m\u001b[38;5;241m.\u001b[39m_backend, \u001b[38;5;124m'\u001b[39m\u001b[38;5;124msupports_timeout\u001b[39m\u001b[38;5;124m'\u001b[39m, \u001b[38;5;28;01mFalse\u001b[39;00m):\n\u001b[1;32m--> 975\u001b[0m         \u001b[38;5;28mself\u001b[39m\u001b[38;5;241m.\u001b[39m_output\u001b[38;5;241m.\u001b[39mextend(\u001b[43mjob\u001b[49m\u001b[38;5;241;43m.\u001b[39;49m\u001b[43mget\u001b[49m\u001b[43m(\u001b[49m\u001b[43mtimeout\u001b[49m\u001b[38;5;241;43m=\u001b[39;49m\u001b[38;5;28;43mself\u001b[39;49m\u001b[38;5;241;43m.\u001b[39;49m\u001b[43mtimeout\u001b[49m\u001b[43m)\u001b[49m)\n\u001b[0;32m    976\u001b[0m     \u001b[38;5;28;01melse\u001b[39;00m:\n\u001b[0;32m    977\u001b[0m         \u001b[38;5;28mself\u001b[39m\u001b[38;5;241m.\u001b[39m_output\u001b[38;5;241m.\u001b[39mextend(job\u001b[38;5;241m.\u001b[39mget())\n",
      "File \u001b[1;32m~\\anaconda3\\envs\\checkenv\\lib\\site-packages\\joblib\\_parallel_backends.py:567\u001b[0m, in \u001b[0;36mLokyBackend.wrap_future_result\u001b[1;34m(future, timeout)\u001b[0m\n\u001b[0;32m    564\u001b[0m \u001b[38;5;124;03m\"\"\"Wrapper for Future.result to implement the same behaviour as\u001b[39;00m\n\u001b[0;32m    565\u001b[0m \u001b[38;5;124;03mAsyncResults.get from multiprocessing.\"\"\"\u001b[39;00m\n\u001b[0;32m    566\u001b[0m \u001b[38;5;28;01mtry\u001b[39;00m:\n\u001b[1;32m--> 567\u001b[0m     \u001b[38;5;28;01mreturn\u001b[39;00m \u001b[43mfuture\u001b[49m\u001b[38;5;241;43m.\u001b[39;49m\u001b[43mresult\u001b[49m\u001b[43m(\u001b[49m\u001b[43mtimeout\u001b[49m\u001b[38;5;241;43m=\u001b[39;49m\u001b[43mtimeout\u001b[49m\u001b[43m)\u001b[49m\n\u001b[0;32m    568\u001b[0m \u001b[38;5;28;01mexcept\u001b[39;00m CfTimeoutError \u001b[38;5;28;01mas\u001b[39;00m e:\n\u001b[0;32m    569\u001b[0m     \u001b[38;5;28;01mraise\u001b[39;00m \u001b[38;5;167;01mTimeoutError\u001b[39;00m \u001b[38;5;28;01mfrom\u001b[39;00m \u001b[38;5;21;01me\u001b[39;00m\n",
      "File \u001b[1;32m~\\anaconda3\\envs\\checkenv\\lib\\concurrent\\futures\\_base.py:453\u001b[0m, in \u001b[0;36mFuture.result\u001b[1;34m(self, timeout)\u001b[0m\n\u001b[0;32m    450\u001b[0m \u001b[38;5;28;01melif\u001b[39;00m \u001b[38;5;28mself\u001b[39m\u001b[38;5;241m.\u001b[39m_state \u001b[38;5;241m==\u001b[39m FINISHED:\n\u001b[0;32m    451\u001b[0m     \u001b[38;5;28;01mreturn\u001b[39;00m \u001b[38;5;28mself\u001b[39m\u001b[38;5;241m.\u001b[39m__get_result()\n\u001b[1;32m--> 453\u001b[0m \u001b[38;5;28;43mself\u001b[39;49m\u001b[38;5;241;43m.\u001b[39;49m\u001b[43m_condition\u001b[49m\u001b[38;5;241;43m.\u001b[39;49m\u001b[43mwait\u001b[49m\u001b[43m(\u001b[49m\u001b[43mtimeout\u001b[49m\u001b[43m)\u001b[49m\n\u001b[0;32m    455\u001b[0m \u001b[38;5;28;01mif\u001b[39;00m \u001b[38;5;28mself\u001b[39m\u001b[38;5;241m.\u001b[39m_state \u001b[38;5;129;01min\u001b[39;00m [CANCELLED, CANCELLED_AND_NOTIFIED]:\n\u001b[0;32m    456\u001b[0m     \u001b[38;5;28;01mraise\u001b[39;00m CancelledError()\n",
      "File \u001b[1;32m~\\anaconda3\\envs\\checkenv\\lib\\threading.py:320\u001b[0m, in \u001b[0;36mCondition.wait\u001b[1;34m(self, timeout)\u001b[0m\n\u001b[0;32m    318\u001b[0m \u001b[38;5;28;01mtry\u001b[39;00m:    \u001b[38;5;66;03m# restore state no matter what (e.g., KeyboardInterrupt)\u001b[39;00m\n\u001b[0;32m    319\u001b[0m     \u001b[38;5;28;01mif\u001b[39;00m timeout \u001b[38;5;129;01mis\u001b[39;00m \u001b[38;5;28;01mNone\u001b[39;00m:\n\u001b[1;32m--> 320\u001b[0m         \u001b[43mwaiter\u001b[49m\u001b[38;5;241;43m.\u001b[39;49m\u001b[43macquire\u001b[49m\u001b[43m(\u001b[49m\u001b[43m)\u001b[49m\n\u001b[0;32m    321\u001b[0m         gotit \u001b[38;5;241m=\u001b[39m \u001b[38;5;28;01mTrue\u001b[39;00m\n\u001b[0;32m    322\u001b[0m     \u001b[38;5;28;01melse\u001b[39;00m:\n",
      "\u001b[1;31mKeyboardInterrupt\u001b[0m: "
     ]
    }
   ],
   "source": [
    "model = xgb.XGBRegressor()\n",
    "cv = RepeatedKFold(n_splits=10, n_repeats=3, random_state=1)\n",
    "# define grid\n",
    "grid = dict()\n",
    "grid['learning_rate'] = np.arange(0.1,2,0.1)\n",
    "grid['max_depth'] = np.arange(1, 10, 1)\n",
    "    \n",
    "# define search\n",
    "search = GridSearchCV(model, grid, scoring='neg_mean_absolute_error', cv=cv, n_jobs=-1)\n",
    "# perform the search\n",
    "results = search.fit(X_train, y_train)\n",
    "# summarize\n",
    "print('MAE: %.3f' % results.best_score_)\n",
    "print('Config: %s' % results.best_params_)"
   ]
  },
  {
   "cell_type": "code",
   "execution_count": null,
   "id": "9ac4d041",
   "metadata": {},
   "outputs": [],
   "source": [
    "params = {\n",
    "    'objective': 'reg:squarederror',  # Specify the objective function for regression\n",
    "    'learning_rate': 0.1,\n",
    "    'max_depth': 6,\n",
    "    'n_estimators':100\n",
    "}"
   ]
  },
  {
   "cell_type": "code",
   "execution_count": null,
   "id": "46c17cef",
   "metadata": {},
   "outputs": [],
   "source": [
    "# Convert the training and testing sets into DMatrix format\n",
    "dtrain = xgb.DMatrix(X_train, label=y_train)\n",
    "dtest = xgb.DMatrix(X_test)"
   ]
  },
  {
   "cell_type": "code",
   "execution_count": null,
   "id": "4b8492c2",
   "metadata": {},
   "outputs": [],
   "source": [
    "model_xgboost = xgb.train(params, dtrain)"
   ]
  },
  {
   "cell_type": "code",
   "execution_count": null,
   "id": "09a37d08",
   "metadata": {},
   "outputs": [],
   "source": [
    "y_pred = model_xgboost.predict(dtest)\n",
    "mean_absolute_error(y_test, y_pred)"
   ]
  },
  {
   "cell_type": "code",
   "execution_count": null,
   "id": "3be07360",
   "metadata": {},
   "outputs": [],
   "source": [
    "with open('C:/Users/Pranay/Desktop/Regression with a Crab Age Dataset/models/model_xgboost.pkl', 'wb') as file:\n",
    "    pickle.dump(model_xgboost, file)"
   ]
  },
  {
   "cell_type": "code",
   "execution_count": null,
   "id": "8b5b1738",
   "metadata": {},
   "outputs": [],
   "source": [
    "model_xgboost.get_score(importance_type='gain')"
   ]
  },
  {
   "cell_type": "code",
   "execution_count": null,
   "id": "ac691e87",
   "metadata": {},
   "outputs": [],
   "source": [
    "with open('C:/Users/Pranay/Desktop/Regression with a Crab Age Dataset/mk/test_columns.pkl', 'wb') as file:\n",
    "    pickle.dump(X_train.columns, file)"
   ]
  },
  {
   "cell_type": "code",
   "execution_count": null,
   "id": "6bebde7c",
   "metadata": {},
   "outputs": [],
   "source": []
  },
  {
   "cell_type": "code",
   "execution_count": null,
   "id": "c3d6eb6d",
   "metadata": {},
   "outputs": [],
   "source": []
  }
 ],
 "metadata": {
  "kernelspec": {
   "display_name": "checkenv_kernel",
   "language": "python",
   "name": "checkenv_kernel"
  },
  "language_info": {
   "codemirror_mode": {
    "name": "ipython",
    "version": 3
   },
   "file_extension": ".py",
   "mimetype": "text/x-python",
   "name": "python",
   "nbconvert_exporter": "python",
   "pygments_lexer": "ipython3",
   "version": "3.10.8"
  }
 },
 "nbformat": 4,
 "nbformat_minor": 5
}
