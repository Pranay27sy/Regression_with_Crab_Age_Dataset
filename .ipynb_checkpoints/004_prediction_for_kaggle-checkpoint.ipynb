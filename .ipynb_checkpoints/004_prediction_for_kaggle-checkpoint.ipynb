{
 "cells": [
  {
   "cell_type": "code",
   "execution_count": 1,
   "id": "9c2f3492",
   "metadata": {},
   "outputs": [],
   "source": [
    "import pandas as pd\n",
    "import pickle"
   ]
  },
  {
   "cell_type": "code",
   "execution_count": 4,
   "id": "e1465529",
   "metadata": {},
   "outputs": [],
   "source": [
    "dataset = 'C:/Users/Pranay/Desktop/Regression with a Crab Age Dataset/Dataset/'\n",
    "test = pd.read_csv(dataset + 'test.csv', index_col = 'id')"
   ]
  },
  {
   "cell_type": "code",
   "execution_count": 2,
   "id": "1b5d6f6d",
   "metadata": {},
   "outputs": [],
   "source": [
    "# Assuming you have trained and obtained your model object called 'model'\n",
    "with open('C:/Users/Pranay/Desktop/Regression with a Crab Age Dataset/models/model_001.pkl', 'rb') as file:\n",
    "    model = pickle.load(file)"
   ]
  },
  {
   "cell_type": "code",
   "execution_count": 5,
   "id": "15a821bd",
   "metadata": {},
   "outputs": [],
   "source": [
    "X_test = pd.get_dummies(test, columns = ['Sex'])"
   ]
  },
  {
   "cell_type": "code",
   "execution_count": 6,
   "id": "9d90cfb5",
   "metadata": {},
   "outputs": [],
   "source": [
    "# Make predictions on the testing data\n",
    "y_pred = model.predict(X_test)"
   ]
  },
  {
   "cell_type": "code",
   "execution_count": 7,
   "id": "17cd88f8",
   "metadata": {},
   "outputs": [],
   "source": [
    "prediction = pd.DataFrame(data=y_pred, index=X_test.index, columns=['Age'])\n",
    "prediction.reset_index(inplace = True)"
   ]
  },
  {
   "cell_type": "code",
   "execution_count": 8,
   "id": "3522f132",
   "metadata": {},
   "outputs": [],
   "source": [
    "prediction.to_csv('C:/Users/Pranay/Desktop/Regression with a Crab Age Dataset/output/prediction.csv',index=False)"
   ]
  }
 ],
 "metadata": {
  "kernelspec": {
   "display_name": "checkenv_kernel",
   "language": "python",
   "name": "checkenv_kernel"
  },
  "language_info": {
   "codemirror_mode": {
    "name": "ipython",
    "version": 3
   },
   "file_extension": ".py",
   "mimetype": "text/x-python",
   "name": "python",
   "nbconvert_exporter": "python",
   "pygments_lexer": "ipython3",
   "version": "3.10.8"
  }
 },
 "nbformat": 4,
 "nbformat_minor": 5
}
