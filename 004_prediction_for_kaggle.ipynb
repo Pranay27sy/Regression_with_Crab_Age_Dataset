{
 "cells": [
  {
   "cell_type": "code",
   "execution_count": 26,
   "id": "9c2f3492",
   "metadata": {},
   "outputs": [],
   "source": [
    "import pandas as pd\n",
    "import pickle\n",
    "import numpy as np\n",
    "import xgboost as xgb\n",
    "from scipy import stats\n",
    "\n",
    "from sklearn.preprocessing import StandardScaler, MinMaxScaler"
   ]
  },
  {
   "cell_type": "code",
   "execution_count": 43,
   "id": "e1465529",
   "metadata": {},
   "outputs": [],
   "source": [
    "dataset = 'C:/Users/Pranay/Desktop/Regression with a Crab Age Dataset/Dataset/'\n",
    "test = pd.read_csv(dataset + 'test.csv', index_col = 'id')"
   ]
  },
  {
   "cell_type": "code",
   "execution_count": 44,
   "id": "66944298",
   "metadata": {},
   "outputs": [
    {
     "data": {
      "text/plain": [
       "(49368, 8)"
      ]
     },
     "execution_count": 44,
     "metadata": {},
     "output_type": "execute_result"
    }
   ],
   "source": [
    "test.shape"
   ]
  },
  {
   "cell_type": "code",
   "execution_count": 45,
   "id": "52ca0345",
   "metadata": {},
   "outputs": [],
   "source": [
    "test['Height'] = test['Height'].replace(0,0.01)"
   ]
  },
  {
   "cell_type": "code",
   "execution_count": 46,
   "id": "7b9101dc",
   "metadata": {},
   "outputs": [],
   "source": [
    "test['Length_transform'],_ = stats.boxcox(test['Length'])\n",
    "\n",
    "p = 0.85  # Percentile threshold\n",
    "lower_threshold = np.percentile(test['Length_transform'], p)\n",
    "upper_threshold = np.percentile(test['Length_transform'], 100 - p)\n",
    "\n",
    "test['Length_transform'] = np.clip( test['Length_transform'], lower_threshold, upper_threshold )\n",
    "\n",
    "###########################\n",
    "\n",
    "test['Diameter_transform'],_ = stats.boxcox(test['Diameter'])\n",
    "\n",
    "p = 0.8  # Percentile threshold\n",
    "lower_threshold = np.percentile(test['Diameter_transform'], p)\n",
    "upper_threshold = np.percentile(test['Diameter_transform'], 100 - p)\n",
    "\n",
    "test['Diameter_transform'] = np.clip( test['Diameter_transform'], lower_threshold, upper_threshold )\n",
    "\n",
    "###########################\n",
    "\n",
    "test['Height_transform'],_ = stats.boxcox(test['Height'])\n",
    "\n",
    "p = 0.8  # Percentile threshold\n",
    "lower_threshold = np.percentile(test['Height_transform'], p)\n",
    "upper_threshold = np.percentile(test['Height_transform'], 100 - p)\n",
    "\n",
    "test['Height_transform'] = np.clip( test['Height_transform'], lower_threshold, upper_threshold )\n",
    "\n",
    "###########################\n",
    "\n",
    "test['Weight_transform'],_ = stats.boxcox(test['Weight'])\n",
    "\n",
    "p = 0.8  # Percentile threshold\n",
    "lower_threshold = np.percentile(test['Weight_transform'], p)\n",
    "upper_threshold = np.percentile(test['Weight_transform'], 100 - p)\n",
    "\n",
    "test['Weight_transform'] = np.clip( test['Weight_transform'], lower_threshold, upper_threshold )\n",
    "\n",
    "###########################\n",
    "\n",
    "test['Shucked_Weight_transform'],_ = stats.boxcox(test['Shucked Weight'])\n",
    "\n",
    "p = 0.8  # Percentile threshold\n",
    "lower_threshold = np.percentile(test['Shucked_Weight_transform'], p)\n",
    "upper_threshold = np.percentile(test['Shucked_Weight_transform'], 100 - p)\n",
    "\n",
    "test['Shucked_Weight_transform'] = np.clip( test['Shucked_Weight_transform'], lower_threshold, upper_threshold )\n",
    "\n",
    "###########################\n",
    "\n",
    "test['Viscera_Weight_transform'],_ = stats.boxcox(test['Viscera Weight'])\n",
    "\n",
    "p = 0.8  # Percentile threshold\n",
    "lower_threshold = np.percentile(test['Viscera_Weight_transform'], p)\n",
    "upper_threshold = np.percentile(test['Viscera_Weight_transform'], 100 - p)\n",
    "\n",
    "test['Viscera_Weight_transform'] = np.clip( test['Viscera_Weight_transform'], lower_threshold, upper_threshold )\n",
    "\n",
    "###########################\n",
    "\n",
    "test['Shell_Weight_transform'],_ = stats.boxcox(test['Shell Weight'])\n",
    "\n",
    "p = 0.8  # Percentile threshold\n",
    "lower_threshold = np.percentile(test['Shell_Weight_transform'], p)\n",
    "upper_threshold = np.percentile(test['Shell_Weight_transform'], 100 - p)\n",
    "\n",
    "test['Shell_Weight_transform'] = np.clip( test['Shell_Weight_transform'], lower_threshold, upper_threshold )"
   ]
  },
  {
   "cell_type": "code",
   "execution_count": 47,
   "id": "21612bdd",
   "metadata": {},
   "outputs": [],
   "source": [
    "test['Volume'] = 3.14 *  (test['Diameter_transform']/2) * (test['Diameter_transform']/2) * test['Height_transform']\n",
    "test['Density'] = test['Weight_transform']/test['Volume']\n",
    "test['Aspect_ratio'] = test['Length_transform']/test['Diameter_transform']\n",
    "test['BMI'] = test['Weight_transform']/(test['Height_transform'] * test['Height_transform'])\n",
    "\n",
    "test['Shucked_by_wt'] = test['Shucked_Weight_transform']/test['Weight_transform']\n",
    "test['Viscera_by_wt'] = test['Viscera_Weight_transform']/test['Weight_transform']\n",
    "test['Shell_by_wt'] = test['Shell_Weight_transform']/test['Weight_transform']\n",
    "\n",
    "test['Length_into_Height'] = test['Length_transform'] * test['Height_transform']\n",
    "test['Length_into_Diameter'] = test['Length_transform'] * test['Diameter_transform']\n",
    "test['Length_into_Weight'] = test['Length_transform'] * test['Weight_transform']\n",
    "\n",
    "#Euclidean norm or the 2-norm (L2-norm)\n",
    "test['L2_weights'] = np.sqrt(test['Shucked_Weight_transform']**2 + test['Viscera_Weight_transform']**2 + test['Shell_Weight_transform']**2)"
   ]
  },
  {
   "cell_type": "code",
   "execution_count": 48,
   "id": "990f2948",
   "metadata": {},
   "outputs": [],
   "source": [
    "# Rename column with space\n",
    "test = test.rename(columns={'Shucked Weight': 'Shucked_Weight','Viscera Weight' : 'Viscera_Weight','Shell Weight':'Shell_Weight'})"
   ]
  },
  {
   "cell_type": "code",
   "execution_count": 49,
   "id": "07bd2bdd",
   "metadata": {},
   "outputs": [],
   "source": [
    "X_test = pd.get_dummies(test, columns = ['Sex'])\n",
    "X_test.drop(columns = ['Sex_M'],inplace = True)"
   ]
  },
  {
   "cell_type": "code",
   "execution_count": 50,
   "id": "889daeb4",
   "metadata": {},
   "outputs": [],
   "source": [
    "with open('C:/Users/Pranay/Desktop/Regression with a Crab Age Dataset/mk/test_columns.pkl', 'rb') as file:\n",
    "    test_columns = pickle.load(file)\n",
    "    \n",
    "X_test = X_test[test_columns]"
   ]
  },
  {
   "cell_type": "code",
   "execution_count": 51,
   "id": "3cc5f3e7",
   "metadata": {},
   "outputs": [],
   "source": [
    "# Create an instance of the StandardScaler\n",
    "scaler = MinMaxScaler()\n",
    "\n",
    "# Fit and transform the data\n",
    "X_transformed = scaler.fit_transform(X_test)\n",
    "# Convert the transformed array back to a DataFrame\n",
    "X_transformed_df = pd.DataFrame(X_transformed, columns=X_test.columns)"
   ]
  },
  {
   "cell_type": "code",
   "execution_count": 52,
   "id": "1b5d6f6d",
   "metadata": {},
   "outputs": [],
   "source": [
    "# Assuming you have trained and obtained your model object called 'model'\n",
    "with open('C:/Users/Pranay/Desktop/Regression with a Crab Age Dataset/models/model_xgboost.pkl', 'rb') as file:\n",
    "    model = pickle.load(file)\n",
    "    \n",
    "# Make predictions on the testing data\n",
    "y_pred = model.predict(X_transformed_df)"
   ]
  },
  {
   "cell_type": "code",
   "execution_count": 53,
   "id": "17cd88f8",
   "metadata": {},
   "outputs": [],
   "source": [
    "prediction = pd.DataFrame(data=y_pred, index=X_test.index, columns=['Age'])\n",
    "prediction.reset_index(inplace = True)\n",
    "prediction.rename(columns = {'index':'id'}, inplace = True)"
   ]
  },
  {
   "cell_type": "code",
   "execution_count": 54,
   "id": "3522f132",
   "metadata": {},
   "outputs": [],
   "source": [
    "prediction.to_csv('C:/Users/Pranay/Desktop/Regression with a Crab Age Dataset/output/prediction_004.csv',index=False)"
   ]
  },
  {
   "cell_type": "code",
   "execution_count": 55,
   "id": "3ab0e353",
   "metadata": {},
   "outputs": [
    {
     "data": {
      "text/html": [
       "<div>\n",
       "<style scoped>\n",
       "    .dataframe tbody tr th:only-of-type {\n",
       "        vertical-align: middle;\n",
       "    }\n",
       "\n",
       "    .dataframe tbody tr th {\n",
       "        vertical-align: top;\n",
       "    }\n",
       "\n",
       "    .dataframe thead th {\n",
       "        text-align: right;\n",
       "    }\n",
       "</style>\n",
       "<table border=\"1\" class=\"dataframe\">\n",
       "  <thead>\n",
       "    <tr style=\"text-align: right;\">\n",
       "      <th></th>\n",
       "      <th>id</th>\n",
       "      <th>Age</th>\n",
       "    </tr>\n",
       "  </thead>\n",
       "  <tbody>\n",
       "    <tr>\n",
       "      <th>0</th>\n",
       "      <td>74051</td>\n",
       "      <td>7.805009</td>\n",
       "    </tr>\n",
       "    <tr>\n",
       "      <th>1</th>\n",
       "      <td>74052</td>\n",
       "      <td>8.056784</td>\n",
       "    </tr>\n",
       "    <tr>\n",
       "      <th>2</th>\n",
       "      <td>74053</td>\n",
       "      <td>9.418727</td>\n",
       "    </tr>\n",
       "    <tr>\n",
       "      <th>3</th>\n",
       "      <td>74054</td>\n",
       "      <td>9.706512</td>\n",
       "    </tr>\n",
       "    <tr>\n",
       "      <th>4</th>\n",
       "      <td>74055</td>\n",
       "      <td>7.725410</td>\n",
       "    </tr>\n",
       "    <tr>\n",
       "      <th>...</th>\n",
       "      <td>...</td>\n",
       "      <td>...</td>\n",
       "    </tr>\n",
       "    <tr>\n",
       "      <th>49363</th>\n",
       "      <td>123414</td>\n",
       "      <td>8.742044</td>\n",
       "    </tr>\n",
       "    <tr>\n",
       "      <th>49364</th>\n",
       "      <td>123415</td>\n",
       "      <td>7.718430</td>\n",
       "    </tr>\n",
       "    <tr>\n",
       "      <th>49365</th>\n",
       "      <td>123416</td>\n",
       "      <td>10.033973</td>\n",
       "    </tr>\n",
       "    <tr>\n",
       "      <th>49366</th>\n",
       "      <td>123417</td>\n",
       "      <td>9.560497</td>\n",
       "    </tr>\n",
       "    <tr>\n",
       "      <th>49367</th>\n",
       "      <td>123418</td>\n",
       "      <td>10.155618</td>\n",
       "    </tr>\n",
       "  </tbody>\n",
       "</table>\n",
       "<p>49368 rows × 2 columns</p>\n",
       "</div>"
      ],
      "text/plain": [
       "           id        Age\n",
       "0       74051   7.805009\n",
       "1       74052   8.056784\n",
       "2       74053   9.418727\n",
       "3       74054   9.706512\n",
       "4       74055   7.725410\n",
       "...       ...        ...\n",
       "49363  123414   8.742044\n",
       "49364  123415   7.718430\n",
       "49365  123416  10.033973\n",
       "49366  123417   9.560497\n",
       "49367  123418  10.155618\n",
       "\n",
       "[49368 rows x 2 columns]"
      ]
     },
     "execution_count": 55,
     "metadata": {},
     "output_type": "execute_result"
    }
   ],
   "source": [
    "prediction"
   ]
  },
  {
   "cell_type": "code",
   "execution_count": null,
   "id": "e5d81a2a",
   "metadata": {},
   "outputs": [],
   "source": []
  }
 ],
 "metadata": {
  "kernelspec": {
   "display_name": "checkenv_kernel",
   "language": "python",
   "name": "checkenv_kernel"
  },
  "language_info": {
   "codemirror_mode": {
    "name": "ipython",
    "version": 3
   },
   "file_extension": ".py",
   "mimetype": "text/x-python",
   "name": "python",
   "nbconvert_exporter": "python",
   "pygments_lexer": "ipython3",
   "version": "3.10.8"
  }
 },
 "nbformat": 4,
 "nbformat_minor": 5
}
