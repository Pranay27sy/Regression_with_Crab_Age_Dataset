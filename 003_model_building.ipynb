{
 "cells": [
  {
   "cell_type": "code",
   "execution_count": 1,
   "id": "61504176",
   "metadata": {},
   "outputs": [],
   "source": [
    "import pandas as pd\n",
    "import numpy as np\n",
    "import matplotlib.pyplot as plt\n",
    "import pickle"
   ]
  },
  {
   "cell_type": "code",
   "execution_count": 2,
   "id": "31de1a16",
   "metadata": {},
   "outputs": [],
   "source": [
    "#models\n",
    "\n",
    "import xgboost as xgb\n",
    "from sklearn.linear_model import LinearRegression\n",
    "from sklearn.linear_model import ElasticNet\n",
    "from sklearn import linear_model\n",
    "import statsmodels.formula.api as smf \n",
    "from sklearn.linear_model import (TheilSenRegressor, RANSACRegressor, HuberRegressor)"
   ]
  },
  {
   "cell_type": "code",
   "execution_count": 3,
   "id": "5d8798e6",
   "metadata": {},
   "outputs": [],
   "source": [
    "from sklearn.model_selection import train_test_split\n",
    "\n",
    "from sklearn.metrics import mean_absolute_error,r2_score\n",
    "from sklearn.preprocessing import StandardScaler, MinMaxScaler\n",
    "\n",
    "from sklearn.feature_selection import SelectKBest\n",
    "from sklearn.feature_selection import chi2\n",
    "\n",
    "from sklearn.model_selection import cross_val_score\n",
    "from sklearn.model_selection import RepeatedKFold\n",
    "from sklearn.model_selection import GridSearchCV\n",
    "from sklearn.feature_selection import RFE"
   ]
  },
  {
   "cell_type": "code",
   "execution_count": 4,
   "id": "679a3110",
   "metadata": {},
   "outputs": [],
   "source": [
    "train = pd.read_pickle('C:/Users/Pranay/Desktop/Regression with a Crab Age Dataset/mk/train_dataset_001.pkl')"
   ]
  },
  {
   "cell_type": "code",
   "execution_count": 5,
   "id": "c8bd05e0",
   "metadata": {},
   "outputs": [],
   "source": [
    "# Rename column with space\n",
    "train = train.rename(columns={'Shucked Weight': 'Shucked_Weight','Viscera Weight' : 'Viscera_Weight','Shell Weight':'Shell_Weight'})"
   ]
  },
  {
   "cell_type": "code",
   "execution_count": 6,
   "id": "c895a2d3",
   "metadata": {},
   "outputs": [],
   "source": [
    "X = train.drop(columns=['Age','Length','Diameter','Height','Weight','Shucked_Weight','Viscera_Weight','Shell_Weight','Density','Aspect_ratio'])\n",
    "y = train[['Age']].copy()"
   ]
  },
  {
   "cell_type": "code",
   "execution_count": 7,
   "id": "1845e71a",
   "metadata": {},
   "outputs": [],
   "source": [
    "# Create an instance of the StandardScaler\n",
    "scaler = MinMaxScaler()\n",
    "\n",
    "# Fit and transform the data\n",
    "X_transformed = scaler.fit_transform(X)\n",
    "# Convert the transformed array back to a DataFrame\n",
    "X_transformed_df = pd.DataFrame(X_transformed, columns=X.columns)"
   ]
  },
  {
   "cell_type": "code",
   "execution_count": 8,
   "id": "d2c3fb47",
   "metadata": {},
   "outputs": [],
   "source": [
    "# #apply SelectKBest class to extract top 10 best features\n",
    "# bestfeatures = SelectKBest( score_func=chi2, k=18 )\n",
    "# fit = bestfeatures.fit(X_transformed_df,y)"
   ]
  },
  {
   "cell_type": "code",
   "execution_count": 9,
   "id": "9f706f80",
   "metadata": {},
   "outputs": [],
   "source": [
    "# dfscores = pd.DataFrame(fit.scores_)\n",
    "# dfcolumns = pd.DataFrame(X_transformed_df.columns)"
   ]
  },
  {
   "cell_type": "code",
   "execution_count": 10,
   "id": "32682f13",
   "metadata": {},
   "outputs": [],
   "source": [
    "# #concat two dataframes for better visualization \n",
    "# featureScores = pd.concat([dfcolumns,dfscores],axis=1)\n",
    "# featureScores.columns = ['Specs','Score']  #naming the dataframe columns"
   ]
  },
  {
   "cell_type": "code",
   "execution_count": 11,
   "id": "473be1cc",
   "metadata": {},
   "outputs": [],
   "source": [
    "# X = X_transformed_df[featureScores.nlargest(18,'Score')['Specs'].values]"
   ]
  },
  {
   "cell_type": "code",
   "execution_count": 12,
   "id": "b4cf3ddb",
   "metadata": {},
   "outputs": [],
   "source": [
    "X = X_transformed_df.copy()"
   ]
  },
  {
   "cell_type": "code",
   "execution_count": 13,
   "id": "6646f713",
   "metadata": {},
   "outputs": [
    {
     "data": {
      "text/html": [
       "<div>\n",
       "<style scoped>\n",
       "    .dataframe tbody tr th:only-of-type {\n",
       "        vertical-align: middle;\n",
       "    }\n",
       "\n",
       "    .dataframe tbody tr th {\n",
       "        vertical-align: top;\n",
       "    }\n",
       "\n",
       "    .dataframe thead th {\n",
       "        text-align: right;\n",
       "    }\n",
       "</style>\n",
       "<table border=\"1\" class=\"dataframe\">\n",
       "  <thead>\n",
       "    <tr style=\"text-align: right;\">\n",
       "      <th></th>\n",
       "      <th>Length_transform</th>\n",
       "      <th>Diameter_transform</th>\n",
       "      <th>Height_transform</th>\n",
       "      <th>Weight_transform</th>\n",
       "      <th>Shucked_Weight_transform</th>\n",
       "      <th>Viscera_Weight_transform</th>\n",
       "      <th>Shell_Weight_transform</th>\n",
       "      <th>Volume</th>\n",
       "      <th>BMI</th>\n",
       "      <th>Shucked_by_wt</th>\n",
       "      <th>Viscera_by_wt</th>\n",
       "      <th>Shell_by_wt</th>\n",
       "      <th>Length_into_Height</th>\n",
       "      <th>Length_into_Diameter</th>\n",
       "      <th>Length_into_Weight</th>\n",
       "      <th>L2_weights</th>\n",
       "      <th>Sex_F</th>\n",
       "      <th>Sex_I</th>\n",
       "    </tr>\n",
       "  </thead>\n",
       "  <tbody>\n",
       "    <tr>\n",
       "      <th>0</th>\n",
       "      <td>0.668331</td>\n",
       "      <td>0.642522</td>\n",
       "      <td>0.607012</td>\n",
       "      <td>0.615812</td>\n",
       "      <td>0.613935</td>\n",
       "      <td>0.649977</td>\n",
       "      <td>0.599067</td>\n",
       "      <td>0.871086</td>\n",
       "      <td>0.348987</td>\n",
       "      <td>0.550758</td>\n",
       "      <td>0.549463</td>\n",
       "      <td>0.543898</td>\n",
       "      <td>0.385242</td>\n",
       "      <td>0.467980</td>\n",
       "      <td>0.442590</td>\n",
       "      <td>0.578545</td>\n",
       "      <td>0.0</td>\n",
       "      <td>1.0</td>\n",
       "    </tr>\n",
       "    <tr>\n",
       "      <th>1</th>\n",
       "      <td>0.290079</td>\n",
       "      <td>0.273848</td>\n",
       "      <td>0.375574</td>\n",
       "      <td>0.268636</td>\n",
       "      <td>0.276456</td>\n",
       "      <td>0.286660</td>\n",
       "      <td>0.288684</td>\n",
       "      <td>0.901936</td>\n",
       "      <td>0.116067</td>\n",
       "      <td>0.550530</td>\n",
       "      <td>0.549156</td>\n",
       "      <td>0.543765</td>\n",
       "      <td>0.685843</td>\n",
       "      <td>0.311596</td>\n",
       "      <td>0.159559</td>\n",
       "      <td>0.213201</td>\n",
       "      <td>0.0</td>\n",
       "      <td>1.0</td>\n",
       "    </tr>\n",
       "    <tr>\n",
       "      <th>2</th>\n",
       "      <td>0.528598</td>\n",
       "      <td>0.565585</td>\n",
       "      <td>0.607012</td>\n",
       "      <td>0.545171</td>\n",
       "      <td>0.563684</td>\n",
       "      <td>0.568315</td>\n",
       "      <td>0.501583</td>\n",
       "      <td>0.950243</td>\n",
       "      <td>0.308872</td>\n",
       "      <td>0.550821</td>\n",
       "      <td>0.549416</td>\n",
       "      <td>0.543770</td>\n",
       "      <td>0.499214</td>\n",
       "      <td>0.387997</td>\n",
       "      <td>0.323564</td>\n",
       "      <td>0.502159</td>\n",
       "      <td>0.0</td>\n",
       "      <td>0.0</td>\n",
       "    </tr>\n",
       "    <tr>\n",
       "      <th>3</th>\n",
       "      <td>0.871187</td>\n",
       "      <td>0.980212</td>\n",
       "      <td>0.907730</td>\n",
       "      <td>0.942782</td>\n",
       "      <td>0.863161</td>\n",
       "      <td>0.939825</td>\n",
       "      <td>0.938508</td>\n",
       "      <td>0.259233</td>\n",
       "      <td>0.812637</td>\n",
       "      <td>0.550635</td>\n",
       "      <td>0.549480</td>\n",
       "      <td>0.544025</td>\n",
       "      <td>0.319791</td>\n",
       "      <td>0.868862</td>\n",
       "      <td>0.816120</td>\n",
       "      <td>0.891575</td>\n",
       "      <td>1.0</td>\n",
       "      <td>0.0</td>\n",
       "    </tr>\n",
       "    <tr>\n",
       "      <th>4</th>\n",
       "      <td>0.405650</td>\n",
       "      <td>0.452628</td>\n",
       "      <td>0.519146</td>\n",
       "      <td>0.519289</td>\n",
       "      <td>0.586998</td>\n",
       "      <td>0.484804</td>\n",
       "      <td>0.458527</td>\n",
       "      <td>0.999421</td>\n",
       "      <td>0.264315</td>\n",
       "      <td>0.551051</td>\n",
       "      <td>0.549276</td>\n",
       "      <td>0.543689</td>\n",
       "      <td>0.591276</td>\n",
       "      <td>0.332328</td>\n",
       "      <td>0.244343</td>\n",
       "      <td>0.488843</td>\n",
       "      <td>0.0</td>\n",
       "      <td>1.0</td>\n",
       "    </tr>\n",
       "  </tbody>\n",
       "</table>\n",
       "</div>"
      ],
      "text/plain": [
       "   Length_transform  Diameter_transform  Height_transform  Weight_transform  \\\n",
       "0          0.668331            0.642522          0.607012          0.615812   \n",
       "1          0.290079            0.273848          0.375574          0.268636   \n",
       "2          0.528598            0.565585          0.607012          0.545171   \n",
       "3          0.871187            0.980212          0.907730          0.942782   \n",
       "4          0.405650            0.452628          0.519146          0.519289   \n",
       "\n",
       "   Shucked_Weight_transform  Viscera_Weight_transform  Shell_Weight_transform  \\\n",
       "0                  0.613935                  0.649977                0.599067   \n",
       "1                  0.276456                  0.286660                0.288684   \n",
       "2                  0.563684                  0.568315                0.501583   \n",
       "3                  0.863161                  0.939825                0.938508   \n",
       "4                  0.586998                  0.484804                0.458527   \n",
       "\n",
       "     Volume       BMI  Shucked_by_wt  Viscera_by_wt  Shell_by_wt  \\\n",
       "0  0.871086  0.348987       0.550758       0.549463     0.543898   \n",
       "1  0.901936  0.116067       0.550530       0.549156     0.543765   \n",
       "2  0.950243  0.308872       0.550821       0.549416     0.543770   \n",
       "3  0.259233  0.812637       0.550635       0.549480     0.544025   \n",
       "4  0.999421  0.264315       0.551051       0.549276     0.543689   \n",
       "\n",
       "   Length_into_Height  Length_into_Diameter  Length_into_Weight  L2_weights  \\\n",
       "0            0.385242              0.467980            0.442590    0.578545   \n",
       "1            0.685843              0.311596            0.159559    0.213201   \n",
       "2            0.499214              0.387997            0.323564    0.502159   \n",
       "3            0.319791              0.868862            0.816120    0.891575   \n",
       "4            0.591276              0.332328            0.244343    0.488843   \n",
       "\n",
       "   Sex_F  Sex_I  \n",
       "0    0.0    1.0  \n",
       "1    0.0    1.0  \n",
       "2    0.0    0.0  \n",
       "3    1.0    0.0  \n",
       "4    0.0    1.0  "
      ]
     },
     "execution_count": 13,
     "metadata": {},
     "output_type": "execute_result"
    }
   ],
   "source": [
    "X.head()"
   ]
  },
  {
   "cell_type": "code",
   "execution_count": 14,
   "id": "92ec9dc7",
   "metadata": {},
   "outputs": [
    {
     "data": {
      "text/plain": [
       "(74051, 18)"
      ]
     },
     "execution_count": 14,
     "metadata": {},
     "output_type": "execute_result"
    }
   ],
   "source": [
    "X.shape"
   ]
  },
  {
   "cell_type": "code",
   "execution_count": 15,
   "id": "fd8c1cf8",
   "metadata": {},
   "outputs": [],
   "source": [
    "X_train,X_test, y_train, y_test = train_test_split(X,y, test_size = 0.2, random_state = 42)"
   ]
  },
  {
   "cell_type": "markdown",
   "id": "c4d1dfb5",
   "metadata": {},
   "source": [
    "### Model1"
   ]
  },
  {
   "cell_type": "code",
   "execution_count": 16,
   "id": "bb3baabb",
   "metadata": {},
   "outputs": [],
   "source": [
    "# Create a logistic regression model\n",
    "model_LinearRegression = LinearRegression()"
   ]
  },
  {
   "cell_type": "code",
   "execution_count": 17,
   "id": "5bafabab",
   "metadata": {},
   "outputs": [
    {
     "data": {
      "text/html": [
       "<style>#sk-container-id-1 {color: black;background-color: white;}#sk-container-id-1 pre{padding: 0;}#sk-container-id-1 div.sk-toggleable {background-color: white;}#sk-container-id-1 label.sk-toggleable__label {cursor: pointer;display: block;width: 100%;margin-bottom: 0;padding: 0.3em;box-sizing: border-box;text-align: center;}#sk-container-id-1 label.sk-toggleable__label-arrow:before {content: \"▸\";float: left;margin-right: 0.25em;color: #696969;}#sk-container-id-1 label.sk-toggleable__label-arrow:hover:before {color: black;}#sk-container-id-1 div.sk-estimator:hover label.sk-toggleable__label-arrow:before {color: black;}#sk-container-id-1 div.sk-toggleable__content {max-height: 0;max-width: 0;overflow: hidden;text-align: left;background-color: #f0f8ff;}#sk-container-id-1 div.sk-toggleable__content pre {margin: 0.2em;color: black;border-radius: 0.25em;background-color: #f0f8ff;}#sk-container-id-1 input.sk-toggleable__control:checked~div.sk-toggleable__content {max-height: 200px;max-width: 100%;overflow: auto;}#sk-container-id-1 input.sk-toggleable__control:checked~label.sk-toggleable__label-arrow:before {content: \"▾\";}#sk-container-id-1 div.sk-estimator input.sk-toggleable__control:checked~label.sk-toggleable__label {background-color: #d4ebff;}#sk-container-id-1 div.sk-label input.sk-toggleable__control:checked~label.sk-toggleable__label {background-color: #d4ebff;}#sk-container-id-1 input.sk-hidden--visually {border: 0;clip: rect(1px 1px 1px 1px);clip: rect(1px, 1px, 1px, 1px);height: 1px;margin: -1px;overflow: hidden;padding: 0;position: absolute;width: 1px;}#sk-container-id-1 div.sk-estimator {font-family: monospace;background-color: #f0f8ff;border: 1px dotted black;border-radius: 0.25em;box-sizing: border-box;margin-bottom: 0.5em;}#sk-container-id-1 div.sk-estimator:hover {background-color: #d4ebff;}#sk-container-id-1 div.sk-parallel-item::after {content: \"\";width: 100%;border-bottom: 1px solid gray;flex-grow: 1;}#sk-container-id-1 div.sk-label:hover label.sk-toggleable__label {background-color: #d4ebff;}#sk-container-id-1 div.sk-serial::before {content: \"\";position: absolute;border-left: 1px solid gray;box-sizing: border-box;top: 0;bottom: 0;left: 50%;z-index: 0;}#sk-container-id-1 div.sk-serial {display: flex;flex-direction: column;align-items: center;background-color: white;padding-right: 0.2em;padding-left: 0.2em;position: relative;}#sk-container-id-1 div.sk-item {position: relative;z-index: 1;}#sk-container-id-1 div.sk-parallel {display: flex;align-items: stretch;justify-content: center;background-color: white;position: relative;}#sk-container-id-1 div.sk-item::before, #sk-container-id-1 div.sk-parallel-item::before {content: \"\";position: absolute;border-left: 1px solid gray;box-sizing: border-box;top: 0;bottom: 0;left: 50%;z-index: -1;}#sk-container-id-1 div.sk-parallel-item {display: flex;flex-direction: column;z-index: 1;position: relative;background-color: white;}#sk-container-id-1 div.sk-parallel-item:first-child::after {align-self: flex-end;width: 50%;}#sk-container-id-1 div.sk-parallel-item:last-child::after {align-self: flex-start;width: 50%;}#sk-container-id-1 div.sk-parallel-item:only-child::after {width: 0;}#sk-container-id-1 div.sk-dashed-wrapped {border: 1px dashed gray;margin: 0 0.4em 0.5em 0.4em;box-sizing: border-box;padding-bottom: 0.4em;background-color: white;}#sk-container-id-1 div.sk-label label {font-family: monospace;font-weight: bold;display: inline-block;line-height: 1.2em;}#sk-container-id-1 div.sk-label-container {text-align: center;}#sk-container-id-1 div.sk-container {/* jupyter's `normalize.less` sets `[hidden] { display: none; }` but bootstrap.min.css set `[hidden] { display: none !important; }` so we also need the `!important` here to be able to override the default hidden behavior on the sphinx rendered scikit-learn.org. See: https://github.com/scikit-learn/scikit-learn/issues/21755 */display: inline-block !important;position: relative;}#sk-container-id-1 div.sk-text-repr-fallback {display: none;}</style><div id=\"sk-container-id-1\" class=\"sk-top-container\"><div class=\"sk-text-repr-fallback\"><pre>LinearRegression()</pre><b>In a Jupyter environment, please rerun this cell to show the HTML representation or trust the notebook. <br />On GitHub, the HTML representation is unable to render, please try loading this page with nbviewer.org.</b></div><div class=\"sk-container\" hidden><div class=\"sk-item\"><div class=\"sk-estimator sk-toggleable\"><input class=\"sk-toggleable__control sk-hidden--visually\" id=\"sk-estimator-id-1\" type=\"checkbox\" checked><label for=\"sk-estimator-id-1\" class=\"sk-toggleable__label sk-toggleable__label-arrow\">LinearRegression</label><div class=\"sk-toggleable__content\"><pre>LinearRegression()</pre></div></div></div></div></div>"
      ],
      "text/plain": [
       "LinearRegression()"
      ]
     },
     "execution_count": 17,
     "metadata": {},
     "output_type": "execute_result"
    }
   ],
   "source": [
    "# Train the model on the training data\n",
    "model_LinearRegression.fit(X_train, y_train)"
   ]
  },
  {
   "cell_type": "code",
   "execution_count": 18,
   "id": "92b69d2c",
   "metadata": {},
   "outputs": [],
   "source": [
    "# Make predictions on the testing data\n",
    "y_pred = model_LinearRegression.predict(X_test)\n",
    "y_pred_1 = y_pred.copy()"
   ]
  },
  {
   "cell_type": "code",
   "execution_count": 19,
   "id": "c554d0a1",
   "metadata": {},
   "outputs": [
    {
     "data": {
      "text/plain": [
       "1.4690142362321426"
      ]
     },
     "execution_count": 19,
     "metadata": {},
     "output_type": "execute_result"
    }
   ],
   "source": [
    "mean_absolute_error(y_test, y_pred)"
   ]
  },
  {
   "cell_type": "code",
   "execution_count": 20,
   "id": "9669e2e7",
   "metadata": {},
   "outputs": [
    {
     "data": {
      "text/plain": [
       "0.5717898231980465"
      ]
     },
     "execution_count": 20,
     "metadata": {},
     "output_type": "execute_result"
    }
   ],
   "source": [
    "r2_score(y_test, y_pred)"
   ]
  },
  {
   "cell_type": "code",
   "execution_count": 21,
   "id": "f782a771",
   "metadata": {},
   "outputs": [],
   "source": [
    "with open('C:/Users/Pranay/Desktop/Regression with a Crab Age Dataset/models/model_LinearRegression.pkl', 'wb') as file:\n",
    "    pickle.dump(model_LinearRegression, file)"
   ]
  },
  {
   "cell_type": "markdown",
   "id": "ba52eab8",
   "metadata": {},
   "source": [
    "### Model 2"
   ]
  },
  {
   "cell_type": "code",
   "execution_count": null,
   "id": "44d90378",
   "metadata": {},
   "outputs": [],
   "source": [
    "model_ElasticNet = ElasticNet()"
   ]
  },
  {
   "cell_type": "code",
   "execution_count": null,
   "id": "810ce78c",
   "metadata": {},
   "outputs": [],
   "source": [
    "# Train the model on the training data\n",
    "model_ElasticNet.fit(X_train, y_train)"
   ]
  },
  {
   "cell_type": "code",
   "execution_count": null,
   "id": "ae814cf9",
   "metadata": {},
   "outputs": [],
   "source": [
    "# Make predictions on the testing data\n",
    "y_pred = model_ElasticNet.predict(X_test)\n",
    "y_pred_2 = y_pred.copy()"
   ]
  },
  {
   "cell_type": "code",
   "execution_count": null,
   "id": "2d7c0cbf",
   "metadata": {},
   "outputs": [],
   "source": [
    "mean_absolute_error(y_test, y_pred)"
   ]
  },
  {
   "cell_type": "code",
   "execution_count": null,
   "id": "77e45a58",
   "metadata": {},
   "outputs": [],
   "source": [
    "r2_score(y_test, y_pred)"
   ]
  },
  {
   "cell_type": "code",
   "execution_count": null,
   "id": "3c85b32a",
   "metadata": {},
   "outputs": [],
   "source": [
    "with open('C:/Users/Pranay/Desktop/Regression with a Crab Age Dataset/models/model_ElasticNet.pkl', 'wb') as file:\n",
    "    pickle.dump(model_ElasticNet, file)"
   ]
  },
  {
   "cell_type": "markdown",
   "id": "4d105d5c",
   "metadata": {},
   "source": [
    "### Lasso & Ridge"
   ]
  },
  {
   "cell_type": "code",
   "execution_count": null,
   "id": "25dd9a20",
   "metadata": {},
   "outputs": [],
   "source": [
    "lasso_model = linear_model.Lasso(alpha=0.1)\n",
    "ridge_model = linear_model.Ridge(alpha=0.5)"
   ]
  },
  {
   "cell_type": "code",
   "execution_count": null,
   "id": "1b5b55f5",
   "metadata": {},
   "outputs": [],
   "source": [
    "lasso_model.fit(X_train, y_train)\n",
    "ridge_model.fit(X_train, y_train)"
   ]
  },
  {
   "cell_type": "code",
   "execution_count": null,
   "id": "e93205e0",
   "metadata": {},
   "outputs": [],
   "source": [
    "# Make predictions on the testing data\n",
    "y_pred = lasso_model.predict(X_test)\n",
    "y_pred_3 = y_pred.copy()\n",
    "mean_absolute_error(y_test, y_pred)"
   ]
  },
  {
   "cell_type": "code",
   "execution_count": null,
   "id": "f712e0d4",
   "metadata": {},
   "outputs": [],
   "source": [
    "# Make predictions on the testing data\n",
    "y_pred = ridge_model.predict(X_test)\n",
    "y_pred_4 = y_pred.copy()\n",
    "mean_absolute_error(y_test, y_pred)"
   ]
  },
  {
   "cell_type": "code",
   "execution_count": null,
   "id": "3c6b9a6d",
   "metadata": {},
   "outputs": [],
   "source": [
    "r2_score(y_test, y_pred)"
   ]
  },
  {
   "cell_type": "markdown",
   "id": "739e945b",
   "metadata": {},
   "source": [
    "### Model 3"
   ]
  },
  {
   "cell_type": "code",
   "execution_count": null,
   "id": "4b6541f7",
   "metadata": {},
   "outputs": [],
   "source": [
    "#Build model\n",
    "model_smf = smf.ols('Age~Length_transform+Diameter_transform+Height_transform+Weight_transform+Shucked_Weight_transform+Viscera_Weight_transform+Shell_Weight_transform+Sex_I+Sex_M',data=train).fit()"
   ]
  },
  {
   "cell_type": "code",
   "execution_count": null,
   "id": "499a957f",
   "metadata": {},
   "outputs": [],
   "source": [
    "#Coefficients\n",
    "model_smf.params"
   ]
  },
  {
   "cell_type": "code",
   "execution_count": null,
   "id": "971e3922",
   "metadata": {},
   "outputs": [],
   "source": [
    "#t and p-Values\n",
    "print(model_smf.tvalues, '\\n', model_smf.pvalues)"
   ]
  },
  {
   "cell_type": "code",
   "execution_count": null,
   "id": "4d1f6dbf",
   "metadata": {},
   "outputs": [],
   "source": [
    "#R squared values\n",
    "(model_smf.rsquared,model_smf.rsquared_adj)"
   ]
  },
  {
   "cell_type": "code",
   "execution_count": null,
   "id": "cba7ad38",
   "metadata": {},
   "outputs": [],
   "source": [
    "y_pred = model_smf.predict(X_test)\n",
    "y_pred_5 = y_pred.copy()\n",
    "mean_absolute_error(y_test, y_pred)"
   ]
  },
  {
   "cell_type": "code",
   "execution_count": null,
   "id": "36743faf",
   "metadata": {},
   "outputs": [],
   "source": [
    "r2_score(y_test, y_pred)"
   ]
  },
  {
   "cell_type": "code",
   "execution_count": null,
   "id": "ca5d882e",
   "metadata": {},
   "outputs": [],
   "source": [
    "with open('C:/Users/Pranay/Desktop/Regression with a Crab Age Dataset/models/model_smf.pkl', 'wb') as file:\n",
    "    pickle.dump(model_smf, file)"
   ]
  },
  {
   "cell_type": "code",
   "execution_count": null,
   "id": "a4fdb340",
   "metadata": {},
   "outputs": [],
   "source": [
    "model_influence = model_smf.get_influence()\n",
    "(c, _) = model_influence.cooks_distance"
   ]
  },
  {
   "cell_type": "code",
   "execution_count": null,
   "id": "d7111a10",
   "metadata": {},
   "outputs": [],
   "source": [
    "#Plot the influencers values using stem plot\n",
    "fig = plt.subplots(figsize=(20, 7))\n",
    "plt.stem(np.arange(len(train)), np.round(c, 3))\n",
    "plt.xlabel('Row index')\n",
    "plt.ylabel('Cooks Distance')\n",
    "plt.show()"
   ]
  },
  {
   "cell_type": "code",
   "execution_count": null,
   "id": "933a8c1a",
   "metadata": {},
   "outputs": [],
   "source": [
    "import statsmodels.api as sm\n",
    "qqplot=sm.qqplot(model_smf.resid,line='q') # line = 45 to draw the diagnoal line\n",
    "plt.title(\"Normal Q-Q plot of residuals\")\n",
    "plt.show()"
   ]
  },
  {
   "cell_type": "code",
   "execution_count": null,
   "id": "c73b2791",
   "metadata": {},
   "outputs": [],
   "source": [
    "plt.hist(model_smf.resid)\n",
    "plt.show()"
   ]
  },
  {
   "cell_type": "code",
   "execution_count": null,
   "id": "a4cc4efc",
   "metadata": {},
   "outputs": [],
   "source": [
    "resid_all = list(np.where((model_smf.resid>5) | (model_smf.resid<-5)))[0]\n",
    "#train=train.drop(train.index[list(resid_all)],axis=0).reset_index(drop = True)"
   ]
  },
  {
   "cell_type": "code",
   "execution_count": null,
   "id": "429a79d3",
   "metadata": {},
   "outputs": [],
   "source": [
    "resid_all = list(np.where(model_smf.resid<-10))[0]\n",
    "train.loc[list(resid_all)]"
   ]
  },
  {
   "cell_type": "markdown",
   "id": "30f86fd2",
   "metadata": {},
   "source": [
    "### Model 5 "
   ]
  },
  {
   "cell_type": "code",
   "execution_count": null,
   "id": "565ecb16",
   "metadata": {},
   "outputs": [],
   "source": [
    "model_ransac = RANSACRegressor()\n",
    "model_ransac.fit(X_train, y_train)"
   ]
  },
  {
   "cell_type": "code",
   "execution_count": null,
   "id": "b9eae55a",
   "metadata": {},
   "outputs": [],
   "source": [
    "# Make predictions on the testing data\n",
    "y_pred = model_ransac.predict(X_test)\n",
    "y_pred_6 = y_pred.copy()\n",
    "mean_absolute_error(y_test, y_pred)"
   ]
  },
  {
   "cell_type": "code",
   "execution_count": null,
   "id": "504728f3",
   "metadata": {},
   "outputs": [],
   "source": [
    "r2_score(y_test, y_pred)"
   ]
  },
  {
   "cell_type": "code",
   "execution_count": null,
   "id": "6a8218e2",
   "metadata": {},
   "outputs": [],
   "source": [
    "sum_list = []\n",
    "count = 0\n",
    "for pred in [y_pred_1,y_pred_2,y_pred_3,y_pred_4,y_pred_6] :\n",
    "    try :\n",
    "        prediction = [i[0] for i in pred]\n",
    "    except IndexError :\n",
    "        prediction = list(pred)\n",
    "    count += 1\n",
    "    if count == 1 :\n",
    "        sum_list = prediction\n",
    "    else :\n",
    "        sum_list = [x + y for x, y in zip(sum_list, prediction)]\n",
    "y_pred_final = [ i/count for i in sum_list]"
   ]
  },
  {
   "cell_type": "code",
   "execution_count": null,
   "id": "76ce25ba",
   "metadata": {},
   "outputs": [],
   "source": [
    "mean_absolute_error(y_test, y_pred_final)"
   ]
  },
  {
   "cell_type": "markdown",
   "id": "779e4986",
   "metadata": {},
   "source": [
    "### Xgboost"
   ]
  },
  {
   "cell_type": "markdown",
   "id": "a9302b72",
   "metadata": {},
   "source": [
    "#### Hyperparameter tuning"
   ]
  },
  {
   "cell_type": "code",
   "execution_count": 22,
   "id": "9eeba376",
   "metadata": {},
   "outputs": [
    {
     "name": "stdout",
     "output_type": "stream",
     "text": [
      "MAE: -1.408\n",
      "Config: {'learning_rate': 0.1, 'max_depth': 4}\n"
     ]
    }
   ],
   "source": [
    "model = xgb.XGBRegressor()\n",
    "cv = RepeatedKFold(n_splits=2, n_repeats=1, random_state=1)\n",
    "\n",
    "# define grid\n",
    "grid = dict()\n",
    "grid['learning_rate'] = np.arange(0.1,2,0.1)\n",
    "grid['max_depth'] = np.arange(1, 10, 1)\n",
    "    \n",
    "# define search\n",
    "search = GridSearchCV(model, grid, scoring='neg_mean_absolute_error', cv=cv, n_jobs=-1)\n",
    "# perform the search\n",
    "results = search.fit(X_train, y_train)\n",
    "# summarize\n",
    "print('MAE: %.3f' % results.best_score_)\n",
    "print('Config: %s' % results.best_params_)"
   ]
  },
  {
   "cell_type": "code",
   "execution_count": 28,
   "id": "6bebde7c",
   "metadata": {},
   "outputs": [
    {
     "data": {
      "text/plain": [
       "1.4103784281384428"
      ]
     },
     "execution_count": 28,
     "metadata": {},
     "output_type": "execute_result"
    }
   ],
   "source": [
    "#model = xgb.XGBRegressor()\n",
    "\n",
    "model_xgboost = xgb.XGBRegressor(n_estimators=100, max_depth=4, learning_rate=0.1, eval_metric='mae',subsample=1)\n",
    "\n",
    "rfe = RFE(estimator=model_xgboost, n_features_to_select=10)  # Adjust the number of features to select as needed\n",
    "\n",
    "rfe.fit(X_train, y_train)\n",
    "\n",
    "selected_features = X_train.columns[rfe.support_]\n",
    "\n",
    "model_xgboost.fit(X_train[selected_features], y_train)\n",
    "\n",
    "y_pred = model_xgboost.predict(X_test[selected_features])\n",
    "\n",
    "mean_absolute_error(y_test, y_pred)"
   ]
  },
  {
   "cell_type": "code",
   "execution_count": 24,
   "id": "3be07360",
   "metadata": {},
   "outputs": [],
   "source": [
    "with open('C:/Users/Pranay/Desktop/Regression with a Crab Age Dataset/models/model_xgboost.pkl', 'wb') as file:\n",
    "    pickle.dump(model_xgboost, file)\n",
    "    \n",
    "with open('C:/Users/Pranay/Desktop/Regression with a Crab Age Dataset/mk/test_columns.pkl', 'wb') as file:\n",
    "    pickle.dump(selected_features, file)"
   ]
  },
  {
   "cell_type": "code",
   "execution_count": 34,
   "id": "ac691e87",
   "metadata": {},
   "outputs": [
    {
     "data": {
      "text/html": [
       "<style>#sk-container-id-2 {color: black;background-color: white;}#sk-container-id-2 pre{padding: 0;}#sk-container-id-2 div.sk-toggleable {background-color: white;}#sk-container-id-2 label.sk-toggleable__label {cursor: pointer;display: block;width: 100%;margin-bottom: 0;padding: 0.3em;box-sizing: border-box;text-align: center;}#sk-container-id-2 label.sk-toggleable__label-arrow:before {content: \"▸\";float: left;margin-right: 0.25em;color: #696969;}#sk-container-id-2 label.sk-toggleable__label-arrow:hover:before {color: black;}#sk-container-id-2 div.sk-estimator:hover label.sk-toggleable__label-arrow:before {color: black;}#sk-container-id-2 div.sk-toggleable__content {max-height: 0;max-width: 0;overflow: hidden;text-align: left;background-color: #f0f8ff;}#sk-container-id-2 div.sk-toggleable__content pre {margin: 0.2em;color: black;border-radius: 0.25em;background-color: #f0f8ff;}#sk-container-id-2 input.sk-toggleable__control:checked~div.sk-toggleable__content {max-height: 200px;max-width: 100%;overflow: auto;}#sk-container-id-2 input.sk-toggleable__control:checked~label.sk-toggleable__label-arrow:before {content: \"▾\";}#sk-container-id-2 div.sk-estimator input.sk-toggleable__control:checked~label.sk-toggleable__label {background-color: #d4ebff;}#sk-container-id-2 div.sk-label input.sk-toggleable__control:checked~label.sk-toggleable__label {background-color: #d4ebff;}#sk-container-id-2 input.sk-hidden--visually {border: 0;clip: rect(1px 1px 1px 1px);clip: rect(1px, 1px, 1px, 1px);height: 1px;margin: -1px;overflow: hidden;padding: 0;position: absolute;width: 1px;}#sk-container-id-2 div.sk-estimator {font-family: monospace;background-color: #f0f8ff;border: 1px dotted black;border-radius: 0.25em;box-sizing: border-box;margin-bottom: 0.5em;}#sk-container-id-2 div.sk-estimator:hover {background-color: #d4ebff;}#sk-container-id-2 div.sk-parallel-item::after {content: \"\";width: 100%;border-bottom: 1px solid gray;flex-grow: 1;}#sk-container-id-2 div.sk-label:hover label.sk-toggleable__label {background-color: #d4ebff;}#sk-container-id-2 div.sk-serial::before {content: \"\";position: absolute;border-left: 1px solid gray;box-sizing: border-box;top: 0;bottom: 0;left: 50%;z-index: 0;}#sk-container-id-2 div.sk-serial {display: flex;flex-direction: column;align-items: center;background-color: white;padding-right: 0.2em;padding-left: 0.2em;position: relative;}#sk-container-id-2 div.sk-item {position: relative;z-index: 1;}#sk-container-id-2 div.sk-parallel {display: flex;align-items: stretch;justify-content: center;background-color: white;position: relative;}#sk-container-id-2 div.sk-item::before, #sk-container-id-2 div.sk-parallel-item::before {content: \"\";position: absolute;border-left: 1px solid gray;box-sizing: border-box;top: 0;bottom: 0;left: 50%;z-index: -1;}#sk-container-id-2 div.sk-parallel-item {display: flex;flex-direction: column;z-index: 1;position: relative;background-color: white;}#sk-container-id-2 div.sk-parallel-item:first-child::after {align-self: flex-end;width: 50%;}#sk-container-id-2 div.sk-parallel-item:last-child::after {align-self: flex-start;width: 50%;}#sk-container-id-2 div.sk-parallel-item:only-child::after {width: 0;}#sk-container-id-2 div.sk-dashed-wrapped {border: 1px dashed gray;margin: 0 0.4em 0.5em 0.4em;box-sizing: border-box;padding-bottom: 0.4em;background-color: white;}#sk-container-id-2 div.sk-label label {font-family: monospace;font-weight: bold;display: inline-block;line-height: 1.2em;}#sk-container-id-2 div.sk-label-container {text-align: center;}#sk-container-id-2 div.sk-container {/* jupyter's `normalize.less` sets `[hidden] { display: none; }` but bootstrap.min.css set `[hidden] { display: none !important; }` so we also need the `!important` here to be able to override the default hidden behavior on the sphinx rendered scikit-learn.org. See: https://github.com/scikit-learn/scikit-learn/issues/21755 */display: inline-block !important;position: relative;}#sk-container-id-2 div.sk-text-repr-fallback {display: none;}</style><div id=\"sk-container-id-2\" class=\"sk-top-container\"><div class=\"sk-text-repr-fallback\"><pre>LGBMRegressor()</pre><b>In a Jupyter environment, please rerun this cell to show the HTML representation or trust the notebook. <br />On GitHub, the HTML representation is unable to render, please try loading this page with nbviewer.org.</b></div><div class=\"sk-container\" hidden><div class=\"sk-item\"><div class=\"sk-estimator sk-toggleable\"><input class=\"sk-toggleable__control sk-hidden--visually\" id=\"sk-estimator-id-2\" type=\"checkbox\" checked><label for=\"sk-estimator-id-2\" class=\"sk-toggleable__label sk-toggleable__label-arrow\">LGBMRegressor</label><div class=\"sk-toggleable__content\"><pre>LGBMRegressor()</pre></div></div></div></div></div>"
      ],
      "text/plain": [
       "LGBMRegressor()"
      ]
     },
     "execution_count": 34,
     "metadata": {},
     "output_type": "execute_result"
    }
   ],
   "source": [
    "import lightgbm as lgb\n",
    "\n",
    "model = lgb.LGBMRegressor()\n",
    "model.fit(X_train, y_train)"
   ]
  },
  {
   "cell_type": "code",
   "execution_count": 35,
   "id": "4c7015c4",
   "metadata": {},
   "outputs": [],
   "source": [
    "y_pred = model.predict(X_test)"
   ]
  },
  {
   "cell_type": "code",
   "execution_count": 36,
   "id": "a947eb7a",
   "metadata": {},
   "outputs": [
    {
     "data": {
      "text/plain": [
       "1.406781437193622"
      ]
     },
     "execution_count": 36,
     "metadata": {},
     "output_type": "execute_result"
    }
   ],
   "source": [
    "mean_absolute_error(y_test, y_pred)"
   ]
  },
  {
   "cell_type": "code",
   "execution_count": null,
   "id": "dfca5bc5",
   "metadata": {},
   "outputs": [],
   "source": []
  }
 ],
 "metadata": {
  "kernelspec": {
   "display_name": "checkenv_kernel",
   "language": "python",
   "name": "checkenv_kernel"
  },
  "language_info": {
   "codemirror_mode": {
    "name": "ipython",
    "version": 3
   },
   "file_extension": ".py",
   "mimetype": "text/x-python",
   "name": "python",
   "nbconvert_exporter": "python",
   "pygments_lexer": "ipython3",
   "version": "3.10.8"
  }
 },
 "nbformat": 4,
 "nbformat_minor": 5
}
